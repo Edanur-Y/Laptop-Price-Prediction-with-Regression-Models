{
 "cells": [
  {
   "cell_type": "markdown",
   "id": "30bf2151",
   "metadata": {},
   "source": [
    "# Laptop Fiyat Tahmini  \n",
    "&ensp;<sup>Edanur Yılmaz (121521014)</sup>  \n",
    "&ensp;<sup>24.01.2025</sup>"
   ]
  },
  {
   "cell_type": "markdown",
   "id": "c2ed8729",
   "metadata": {},
   "source": [
    "## İçerik\n",
    "• [Veri İncelemesi ve Ön İşlemesi](#Veri-İncelemesi-ve-Ön-İşlemesi)  \n",
    "• [1.Multi-layer Perceptron Regressor](#1.Multi-layer-Perceptron-Regressor)    \n",
    "    &emsp;- [Grid Search Cross-Validation](#1.1.Grid-Search-Cross-Validation)    \n",
    "• [2.K-Nearest Neighbors Regressor](#2.K-Nearest-Neighbors-Regressor)  \n",
    "    &emsp;- [Grid Search Cross-Validation](#2.1.Grid-Search-Cross-Validation)  \n",
    "• [3.Random Forest Regressor](#3.Random-Forest-Regressor)    \n",
    "    &emsp;- [Grid Search Cross-Validation](#3.1.Grid-Search-Cross-Validation)  \n",
    "• [4.Gradient Boosting Regressor](#4.Gradient-Boosting-Regressor)  \n",
    "    &emsp;- [Grid Search Cross-Validation](#4.1.Grid-Search-Cross-Validation)  \n",
    "• [5.Extreme Gradient Boosting Regressor](#5.Extreme-Gradient-Boosting-Regressor)  \n",
    "    &emsp;- [Grid Search Cross-Validation](#5.1.Grid-Search-Cross-Validation)"
   ]
  },
  {
   "cell_type": "code",
   "execution_count": 1,
   "id": "bec391d1",
   "metadata": {},
   "outputs": [],
   "source": [
    "from warnings import filterwarnings\n",
    "import pandas as pd\n",
    "import numpy as np\n",
    "import random\n",
    "import missingno as msno\n",
    "import seaborn as sns\n",
    "import matplotlib.pyplot as plt\n",
    "from sklearn.model_selection import train_test_split, cross_val_score, KFold, GridSearchCV\n",
    "from sklearn.preprocessing import MinMaxScaler\n",
    "from sklearn.linear_model import LinearRegression\n",
    "from sklearn.metrics import mean_squared_error, r2_score\n",
    "from sklearn.feature_selection import RFE\n",
    "from sklearn.neural_network import MLPRegressor\n",
    "from sklearn.neighbors import KNeighborsRegressor\n",
    "from sklearn.tree import DecisionTreeRegressor\n",
    "from sklearn.ensemble import RandomForestRegressor, GradientBoostingRegressor\n",
    "from xgboost import XGBRegressor"
   ]
  },
  {
   "cell_type": "code",
   "execution_count": 2,
   "id": "292bce79",
   "metadata": {},
   "outputs": [],
   "source": [
    "filterwarnings(\"ignore\")"
   ]
  },
  {
   "cell_type": "markdown",
   "id": "9ebe177f",
   "metadata": {},
   "source": [
    "# Veri İncelemesi ve Ön İşlemesi\n",
    "&ensp;<sup>[İçeriğe git.](#İçerik)</sup>"
   ]
  },
  {
   "cell_type": "code",
   "execution_count": 3,
   "id": "a9fb7562",
   "metadata": {},
   "outputs": [],
   "source": [
    "laptops_data = pd.read_csv(\"laptops.csv\")"
   ]
  },
  {
   "cell_type": "markdown",
   "id": "d84aa62c",
   "metadata": {},
   "source": [
    "Laptop fiyatı tahmini yapacağım veri:"
   ]
  },
  {
   "cell_type": "code",
   "execution_count": 4,
   "id": "f19bbbb8",
   "metadata": {},
   "outputs": [
    {
     "data": {
      "text/html": [
       "<div>\n",
       "<style scoped>\n",
       "    .dataframe tbody tr th:only-of-type {\n",
       "        vertical-align: middle;\n",
       "    }\n",
       "\n",
       "    .dataframe tbody tr th {\n",
       "        vertical-align: top;\n",
       "    }\n",
       "\n",
       "    .dataframe thead th {\n",
       "        text-align: right;\n",
       "    }\n",
       "</style>\n",
       "<table border=\"1\" class=\"dataframe\">\n",
       "  <thead>\n",
       "    <tr style=\"text-align: right;\">\n",
       "      <th></th>\n",
       "      <th>Laptop</th>\n",
       "      <th>Status</th>\n",
       "      <th>Brand</th>\n",
       "      <th>Model</th>\n",
       "      <th>CPU</th>\n",
       "      <th>RAM</th>\n",
       "      <th>Storage</th>\n",
       "      <th>Storage type</th>\n",
       "      <th>GPU</th>\n",
       "      <th>Screen</th>\n",
       "      <th>Touch</th>\n",
       "      <th>Final Price</th>\n",
       "    </tr>\n",
       "  </thead>\n",
       "  <tbody>\n",
       "    <tr>\n",
       "      <th>0</th>\n",
       "      <td>ASUS ExpertBook B1 B1502CBA-EJ0436X Intel Core...</td>\n",
       "      <td>New</td>\n",
       "      <td>Asus</td>\n",
       "      <td>ExpertBook</td>\n",
       "      <td>Intel Core i5</td>\n",
       "      <td>8</td>\n",
       "      <td>512</td>\n",
       "      <td>SSD</td>\n",
       "      <td>NaN</td>\n",
       "      <td>15.6</td>\n",
       "      <td>No</td>\n",
       "      <td>1009.00</td>\n",
       "    </tr>\n",
       "    <tr>\n",
       "      <th>1</th>\n",
       "      <td>Alurin Go Start Intel Celeron N4020/8GB/256GB ...</td>\n",
       "      <td>New</td>\n",
       "      <td>Alurin</td>\n",
       "      <td>Go</td>\n",
       "      <td>Intel Celeron</td>\n",
       "      <td>8</td>\n",
       "      <td>256</td>\n",
       "      <td>SSD</td>\n",
       "      <td>NaN</td>\n",
       "      <td>15.6</td>\n",
       "      <td>No</td>\n",
       "      <td>299.00</td>\n",
       "    </tr>\n",
       "    <tr>\n",
       "      <th>2</th>\n",
       "      <td>ASUS ExpertBook B1 B1502CBA-EJ0424X Intel Core...</td>\n",
       "      <td>New</td>\n",
       "      <td>Asus</td>\n",
       "      <td>ExpertBook</td>\n",
       "      <td>Intel Core i3</td>\n",
       "      <td>8</td>\n",
       "      <td>256</td>\n",
       "      <td>SSD</td>\n",
       "      <td>NaN</td>\n",
       "      <td>15.6</td>\n",
       "      <td>No</td>\n",
       "      <td>789.00</td>\n",
       "    </tr>\n",
       "    <tr>\n",
       "      <th>3</th>\n",
       "      <td>MSI Katana GF66 12UC-082XES Intel Core i7-1270...</td>\n",
       "      <td>New</td>\n",
       "      <td>MSI</td>\n",
       "      <td>Katana</td>\n",
       "      <td>Intel Core i7</td>\n",
       "      <td>16</td>\n",
       "      <td>1000</td>\n",
       "      <td>SSD</td>\n",
       "      <td>RTX 3050</td>\n",
       "      <td>15.6</td>\n",
       "      <td>No</td>\n",
       "      <td>1199.00</td>\n",
       "    </tr>\n",
       "    <tr>\n",
       "      <th>4</th>\n",
       "      <td>HP 15S-FQ5085NS Intel Core i5-1235U/16GB/512GB...</td>\n",
       "      <td>New</td>\n",
       "      <td>HP</td>\n",
       "      <td>15S</td>\n",
       "      <td>Intel Core i5</td>\n",
       "      <td>16</td>\n",
       "      <td>512</td>\n",
       "      <td>SSD</td>\n",
       "      <td>NaN</td>\n",
       "      <td>15.6</td>\n",
       "      <td>No</td>\n",
       "      <td>669.01</td>\n",
       "    </tr>\n",
       "  </tbody>\n",
       "</table>\n",
       "</div>"
      ],
      "text/plain": [
       "                                              Laptop Status   Brand  \\\n",
       "0  ASUS ExpertBook B1 B1502CBA-EJ0436X Intel Core...    New    Asus   \n",
       "1  Alurin Go Start Intel Celeron N4020/8GB/256GB ...    New  Alurin   \n",
       "2  ASUS ExpertBook B1 B1502CBA-EJ0424X Intel Core...    New    Asus   \n",
       "3  MSI Katana GF66 12UC-082XES Intel Core i7-1270...    New     MSI   \n",
       "4  HP 15S-FQ5085NS Intel Core i5-1235U/16GB/512GB...    New      HP   \n",
       "\n",
       "        Model            CPU  RAM  Storage Storage type       GPU  Screen  \\\n",
       "0  ExpertBook  Intel Core i5    8      512          SSD       NaN    15.6   \n",
       "1          Go  Intel Celeron    8      256          SSD       NaN    15.6   \n",
       "2  ExpertBook  Intel Core i3    8      256          SSD       NaN    15.6   \n",
       "3      Katana  Intel Core i7   16     1000          SSD  RTX 3050    15.6   \n",
       "4         15S  Intel Core i5   16      512          SSD       NaN    15.6   \n",
       "\n",
       "  Touch  Final Price  \n",
       "0    No      1009.00  \n",
       "1    No       299.00  \n",
       "2    No       789.00  \n",
       "3    No      1199.00  \n",
       "4    No       669.01  "
      ]
     },
     "execution_count": 4,
     "metadata": {},
     "output_type": "execute_result"
    }
   ],
   "source": [
    "laptops_data.head()"
   ]
  },
  {
   "cell_type": "code",
   "execution_count": 5,
   "id": "bfefc6e9",
   "metadata": {
    "scrolled": true
   },
   "outputs": [
    {
     "data": {
      "text/plain": [
       "Laptop           object\n",
       "Status           object\n",
       "Brand            object\n",
       "Model            object\n",
       "CPU              object\n",
       "RAM               int64\n",
       "Storage           int64\n",
       "Storage type     object\n",
       "GPU              object\n",
       "Screen          float64\n",
       "Touch            object\n",
       "Final Price     float64\n",
       "dtype: object"
      ]
     },
     "execution_count": 5,
     "metadata": {},
     "output_type": "execute_result"
    }
   ],
   "source": [
    "laptops_data.dtypes"
   ]
  },
  {
   "cell_type": "code",
   "execution_count": 6,
   "id": "c698f003",
   "metadata": {
    "scrolled": true
   },
   "outputs": [],
   "source": [
    "def unique_value_count(variables):\n",
    "    d = {}\n",
    "    for variable in variables:\n",
    "        d.update({variable: [laptops_data[variable].nunique()]})\n",
    "        df = pd.DataFrame(d)\n",
    "    return df"
   ]
  },
  {
   "cell_type": "markdown",
   "id": "6041d74d",
   "metadata": {},
   "source": [
    "Kategorik değişkenlerin kaç çeşit değer alabildiğine bakıyorum."
   ]
  },
  {
   "cell_type": "code",
   "execution_count": 7,
   "id": "9f12f6bd",
   "metadata": {},
   "outputs": [
    {
     "data": {
      "text/html": [
       "<div>\n",
       "<style scoped>\n",
       "    .dataframe tbody tr th:only-of-type {\n",
       "        vertical-align: middle;\n",
       "    }\n",
       "\n",
       "    .dataframe tbody tr th {\n",
       "        vertical-align: top;\n",
       "    }\n",
       "\n",
       "    .dataframe thead th {\n",
       "        text-align: right;\n",
       "    }\n",
       "</style>\n",
       "<table border=\"1\" class=\"dataframe\">\n",
       "  <thead>\n",
       "    <tr style=\"text-align: right;\">\n",
       "      <th></th>\n",
       "      <th>Status</th>\n",
       "      <th>Brand</th>\n",
       "      <th>Model</th>\n",
       "      <th>CPU</th>\n",
       "      <th>Storage type</th>\n",
       "      <th>GPU</th>\n",
       "      <th>Touch</th>\n",
       "    </tr>\n",
       "  </thead>\n",
       "  <tbody>\n",
       "    <tr>\n",
       "      <th>0</th>\n",
       "      <td>2</td>\n",
       "      <td>27</td>\n",
       "      <td>121</td>\n",
       "      <td>28</td>\n",
       "      <td>2</td>\n",
       "      <td>44</td>\n",
       "      <td>2</td>\n",
       "    </tr>\n",
       "  </tbody>\n",
       "</table>\n",
       "</div>"
      ],
      "text/plain": [
       "   Status  Brand  Model  CPU  Storage type  GPU  Touch\n",
       "0       2     27    121   28             2   44      2"
      ]
     },
     "execution_count": 7,
     "metadata": {},
     "output_type": "execute_result"
    }
   ],
   "source": [
    "variables = [\"Status\", \"Brand\", \"Model\", \"CPU\", \"Storage type\", \"GPU\", \"Touch\"]\n",
    "unique_value_count(variables)"
   ]
  },
  {
   "cell_type": "markdown",
   "id": "d1baa733",
   "metadata": {},
   "source": [
    "Çok sayıda değer alan değişkenleri çıkarıyorum. Dummy atanabilir ancak laptopa özgü hale geldiği için özellikle 'Model' gibi değişkenler anlamlı sonuçlar vermeyebilir."
   ]
  },
  {
   "cell_type": "code",
   "execution_count": 8,
   "id": "3a4eeea2",
   "metadata": {},
   "outputs": [
    {
     "data": {
      "text/html": [
       "<div>\n",
       "<style scoped>\n",
       "    .dataframe tbody tr th:only-of-type {\n",
       "        vertical-align: middle;\n",
       "    }\n",
       "\n",
       "    .dataframe tbody tr th {\n",
       "        vertical-align: top;\n",
       "    }\n",
       "\n",
       "    .dataframe thead th {\n",
       "        text-align: right;\n",
       "    }\n",
       "</style>\n",
       "<table border=\"1\" class=\"dataframe\">\n",
       "  <thead>\n",
       "    <tr style=\"text-align: right;\">\n",
       "      <th></th>\n",
       "      <th>Status</th>\n",
       "      <th>RAM</th>\n",
       "      <th>Storage</th>\n",
       "      <th>Storage type</th>\n",
       "      <th>Screen</th>\n",
       "      <th>Touch</th>\n",
       "      <th>Final Price</th>\n",
       "    </tr>\n",
       "  </thead>\n",
       "  <tbody>\n",
       "    <tr>\n",
       "      <th>0</th>\n",
       "      <td>New</td>\n",
       "      <td>8</td>\n",
       "      <td>512</td>\n",
       "      <td>SSD</td>\n",
       "      <td>15.6</td>\n",
       "      <td>No</td>\n",
       "      <td>1009.00</td>\n",
       "    </tr>\n",
       "    <tr>\n",
       "      <th>1</th>\n",
       "      <td>New</td>\n",
       "      <td>8</td>\n",
       "      <td>256</td>\n",
       "      <td>SSD</td>\n",
       "      <td>15.6</td>\n",
       "      <td>No</td>\n",
       "      <td>299.00</td>\n",
       "    </tr>\n",
       "    <tr>\n",
       "      <th>2</th>\n",
       "      <td>New</td>\n",
       "      <td>8</td>\n",
       "      <td>256</td>\n",
       "      <td>SSD</td>\n",
       "      <td>15.6</td>\n",
       "      <td>No</td>\n",
       "      <td>789.00</td>\n",
       "    </tr>\n",
       "    <tr>\n",
       "      <th>3</th>\n",
       "      <td>New</td>\n",
       "      <td>16</td>\n",
       "      <td>1000</td>\n",
       "      <td>SSD</td>\n",
       "      <td>15.6</td>\n",
       "      <td>No</td>\n",
       "      <td>1199.00</td>\n",
       "    </tr>\n",
       "    <tr>\n",
       "      <th>4</th>\n",
       "      <td>New</td>\n",
       "      <td>16</td>\n",
       "      <td>512</td>\n",
       "      <td>SSD</td>\n",
       "      <td>15.6</td>\n",
       "      <td>No</td>\n",
       "      <td>669.01</td>\n",
       "    </tr>\n",
       "    <tr>\n",
       "      <th>...</th>\n",
       "      <td>...</td>\n",
       "      <td>...</td>\n",
       "      <td>...</td>\n",
       "      <td>...</td>\n",
       "      <td>...</td>\n",
       "      <td>...</td>\n",
       "      <td>...</td>\n",
       "    </tr>\n",
       "    <tr>\n",
       "      <th>2155</th>\n",
       "      <td>Refurbished</td>\n",
       "      <td>16</td>\n",
       "      <td>1000</td>\n",
       "      <td>SSD</td>\n",
       "      <td>17.3</td>\n",
       "      <td>No</td>\n",
       "      <td>2699.99</td>\n",
       "    </tr>\n",
       "    <tr>\n",
       "      <th>2156</th>\n",
       "      <td>Refurbished</td>\n",
       "      <td>16</td>\n",
       "      <td>1000</td>\n",
       "      <td>SSD</td>\n",
       "      <td>17.3</td>\n",
       "      <td>No</td>\n",
       "      <td>2899.99</td>\n",
       "    </tr>\n",
       "    <tr>\n",
       "      <th>2157</th>\n",
       "      <td>Refurbished</td>\n",
       "      <td>32</td>\n",
       "      <td>1000</td>\n",
       "      <td>SSD</td>\n",
       "      <td>17.3</td>\n",
       "      <td>No</td>\n",
       "      <td>3399.99</td>\n",
       "    </tr>\n",
       "    <tr>\n",
       "      <th>2158</th>\n",
       "      <td>Refurbished</td>\n",
       "      <td>16</td>\n",
       "      <td>1000</td>\n",
       "      <td>SSD</td>\n",
       "      <td>13.4</td>\n",
       "      <td>Yes</td>\n",
       "      <td>1899.99</td>\n",
       "    </tr>\n",
       "    <tr>\n",
       "      <th>2159</th>\n",
       "      <td>Refurbished</td>\n",
       "      <td>16</td>\n",
       "      <td>256</td>\n",
       "      <td>SSD</td>\n",
       "      <td>13.4</td>\n",
       "      <td>Yes</td>\n",
       "      <td>1699.99</td>\n",
       "    </tr>\n",
       "  </tbody>\n",
       "</table>\n",
       "<p>2160 rows × 7 columns</p>\n",
       "</div>"
      ],
      "text/plain": [
       "           Status  RAM  Storage Storage type  Screen Touch  Final Price\n",
       "0             New    8      512          SSD    15.6    No      1009.00\n",
       "1             New    8      256          SSD    15.6    No       299.00\n",
       "2             New    8      256          SSD    15.6    No       789.00\n",
       "3             New   16     1000          SSD    15.6    No      1199.00\n",
       "4             New   16      512          SSD    15.6    No       669.01\n",
       "...           ...  ...      ...          ...     ...   ...          ...\n",
       "2155  Refurbished   16     1000          SSD    17.3    No      2699.99\n",
       "2156  Refurbished   16     1000          SSD    17.3    No      2899.99\n",
       "2157  Refurbished   32     1000          SSD    17.3    No      3399.99\n",
       "2158  Refurbished   16     1000          SSD    13.4   Yes      1899.99\n",
       "2159  Refurbished   16      256          SSD    13.4   Yes      1699.99\n",
       "\n",
       "[2160 rows x 7 columns]"
      ]
     },
     "execution_count": 8,
     "metadata": {},
     "output_type": "execute_result"
    }
   ],
   "source": [
    "remove = [\"Laptop\", \"Brand\", \"Model\", \"CPU\", \"GPU\"]\n",
    "laptops_data.drop(remove, axis=1, inplace=True)\n",
    "laptops_data"
   ]
  },
  {
   "cell_type": "markdown",
   "id": "14e5f79c",
   "metadata": {},
   "source": [
    "Eksik değer var mı diye bakıyorum."
   ]
  },
  {
   "cell_type": "code",
   "execution_count": 9,
   "id": "fd3fa30b",
   "metadata": {},
   "outputs": [
    {
     "data": {
      "text/plain": [
       "Status           0\n",
       "RAM              0\n",
       "Storage          0\n",
       "Storage type    42\n",
       "Screen           4\n",
       "Touch            0\n",
       "Final Price      0\n",
       "dtype: int64"
      ]
     },
     "execution_count": 9,
     "metadata": {},
     "output_type": "execute_result"
    }
   ],
   "source": [
    "laptops_data.isnull().sum()"
   ]
  },
  {
   "cell_type": "markdown",
   "id": "4fc4dff4",
   "metadata": {},
   "source": [
    "42 tane eksik gözlemi olan 'Storage type' değişkenini çıkarıyorum.  \n",
    "(Çıkarmadan model kurduğumda feature importance'ı çok düşüktü.)"
   ]
  },
  {
   "cell_type": "code",
   "execution_count": 10,
   "id": "b4070622",
   "metadata": {},
   "outputs": [],
   "source": [
    "laptops_data.drop(\"Storage type\", axis=1, inplace=True)"
   ]
  },
  {
   "cell_type": "markdown",
   "id": "b4ade51a",
   "metadata": {},
   "source": [
    "Kategorik değişkenlere değer atıyorum."
   ]
  },
  {
   "cell_type": "code",
   "execution_count": 11,
   "id": "fa5339b1",
   "metadata": {},
   "outputs": [
    {
     "name": "stdout",
     "output_type": "stream",
     "text": [
      "Status: ['New' 'Refurbished']\n"
     ]
    }
   ],
   "source": [
    "print(f\"Status: {laptops_data[\"Status\"].unique()}\")"
   ]
  },
  {
   "cell_type": "code",
   "execution_count": 12,
   "id": "0da6361e",
   "metadata": {},
   "outputs": [],
   "source": [
    "def Status_map(x):\n",
    "    return x.map({\"New\" : 0,\n",
    "                  \"Refurbished\" : 1})"
   ]
  },
  {
   "cell_type": "code",
   "execution_count": 13,
   "id": "f5c3703b",
   "metadata": {},
   "outputs": [],
   "source": [
    "laptops_data[\"Status\"] = Status_map(laptops_data[\"Status\"])"
   ]
  },
  {
   "cell_type": "code",
   "execution_count": 14,
   "id": "a089a44f",
   "metadata": {},
   "outputs": [
    {
     "name": "stdout",
     "output_type": "stream",
     "text": [
      "Touch: ['No' 'Yes']\n"
     ]
    }
   ],
   "source": [
    "print(f\"Touch: {laptops_data[\"Touch\"].unique()}\")"
   ]
  },
  {
   "cell_type": "code",
   "execution_count": 15,
   "id": "b269d6a2",
   "metadata": {},
   "outputs": [],
   "source": [
    "def Touch_map(x):\n",
    "    return x.map({\"No\" : 0,\n",
    "                  \"Yes\" : 1})"
   ]
  },
  {
   "cell_type": "code",
   "execution_count": 16,
   "id": "b359c7bb",
   "metadata": {},
   "outputs": [],
   "source": [
    "laptops_data[\"Touch\"] = Touch_map(laptops_data[\"Touch\"])"
   ]
  },
  {
   "cell_type": "markdown",
   "id": "7c9de39e",
   "metadata": {},
   "source": [
    "'Screen' değişkeninin 4 tane eksik gözlemini, değişkenin ortalaması ile dolduruyorum."
   ]
  },
  {
   "cell_type": "code",
   "execution_count": 17,
   "id": "dd2de43b",
   "metadata": {},
   "outputs": [
    {
     "data": {
      "text/html": [
       "<div>\n",
       "<style scoped>\n",
       "    .dataframe tbody tr th:only-of-type {\n",
       "        vertical-align: middle;\n",
       "    }\n",
       "\n",
       "    .dataframe tbody tr th {\n",
       "        vertical-align: top;\n",
       "    }\n",
       "\n",
       "    .dataframe thead th {\n",
       "        text-align: right;\n",
       "    }\n",
       "</style>\n",
       "<table border=\"1\" class=\"dataframe\">\n",
       "  <thead>\n",
       "    <tr style=\"text-align: right;\">\n",
       "      <th></th>\n",
       "      <th>Status</th>\n",
       "      <th>RAM</th>\n",
       "      <th>Storage</th>\n",
       "      <th>Screen</th>\n",
       "      <th>Touch</th>\n",
       "      <th>Final Price</th>\n",
       "    </tr>\n",
       "  </thead>\n",
       "  <tbody>\n",
       "    <tr>\n",
       "      <th>0</th>\n",
       "      <td>0</td>\n",
       "      <td>8</td>\n",
       "      <td>512</td>\n",
       "      <td>15.6</td>\n",
       "      <td>0</td>\n",
       "      <td>1009.00</td>\n",
       "    </tr>\n",
       "    <tr>\n",
       "      <th>1</th>\n",
       "      <td>0</td>\n",
       "      <td>8</td>\n",
       "      <td>256</td>\n",
       "      <td>15.6</td>\n",
       "      <td>0</td>\n",
       "      <td>299.00</td>\n",
       "    </tr>\n",
       "    <tr>\n",
       "      <th>2</th>\n",
       "      <td>0</td>\n",
       "      <td>8</td>\n",
       "      <td>256</td>\n",
       "      <td>15.6</td>\n",
       "      <td>0</td>\n",
       "      <td>789.00</td>\n",
       "    </tr>\n",
       "    <tr>\n",
       "      <th>3</th>\n",
       "      <td>0</td>\n",
       "      <td>16</td>\n",
       "      <td>1000</td>\n",
       "      <td>15.6</td>\n",
       "      <td>0</td>\n",
       "      <td>1199.00</td>\n",
       "    </tr>\n",
       "    <tr>\n",
       "      <th>4</th>\n",
       "      <td>0</td>\n",
       "      <td>16</td>\n",
       "      <td>512</td>\n",
       "      <td>15.6</td>\n",
       "      <td>0</td>\n",
       "      <td>669.01</td>\n",
       "    </tr>\n",
       "    <tr>\n",
       "      <th>...</th>\n",
       "      <td>...</td>\n",
       "      <td>...</td>\n",
       "      <td>...</td>\n",
       "      <td>...</td>\n",
       "      <td>...</td>\n",
       "      <td>...</td>\n",
       "    </tr>\n",
       "    <tr>\n",
       "      <th>2155</th>\n",
       "      <td>1</td>\n",
       "      <td>16</td>\n",
       "      <td>1000</td>\n",
       "      <td>17.3</td>\n",
       "      <td>0</td>\n",
       "      <td>2699.99</td>\n",
       "    </tr>\n",
       "    <tr>\n",
       "      <th>2156</th>\n",
       "      <td>1</td>\n",
       "      <td>16</td>\n",
       "      <td>1000</td>\n",
       "      <td>17.3</td>\n",
       "      <td>0</td>\n",
       "      <td>2899.99</td>\n",
       "    </tr>\n",
       "    <tr>\n",
       "      <th>2157</th>\n",
       "      <td>1</td>\n",
       "      <td>32</td>\n",
       "      <td>1000</td>\n",
       "      <td>17.3</td>\n",
       "      <td>0</td>\n",
       "      <td>3399.99</td>\n",
       "    </tr>\n",
       "    <tr>\n",
       "      <th>2158</th>\n",
       "      <td>1</td>\n",
       "      <td>16</td>\n",
       "      <td>1000</td>\n",
       "      <td>13.4</td>\n",
       "      <td>1</td>\n",
       "      <td>1899.99</td>\n",
       "    </tr>\n",
       "    <tr>\n",
       "      <th>2159</th>\n",
       "      <td>1</td>\n",
       "      <td>16</td>\n",
       "      <td>256</td>\n",
       "      <td>13.4</td>\n",
       "      <td>1</td>\n",
       "      <td>1699.99</td>\n",
       "    </tr>\n",
       "  </tbody>\n",
       "</table>\n",
       "<p>2160 rows × 6 columns</p>\n",
       "</div>"
      ],
      "text/plain": [
       "      Status  RAM  Storage  Screen  Touch  Final Price\n",
       "0          0    8      512    15.6      0      1009.00\n",
       "1          0    8      256    15.6      0       299.00\n",
       "2          0    8      256    15.6      0       789.00\n",
       "3          0   16     1000    15.6      0      1199.00\n",
       "4          0   16      512    15.6      0       669.01\n",
       "...      ...  ...      ...     ...    ...          ...\n",
       "2155       1   16     1000    17.3      0      2699.99\n",
       "2156       1   16     1000    17.3      0      2899.99\n",
       "2157       1   32     1000    17.3      0      3399.99\n",
       "2158       1   16     1000    13.4      1      1899.99\n",
       "2159       1   16      256    13.4      1      1699.99\n",
       "\n",
       "[2160 rows x 6 columns]"
      ]
     },
     "execution_count": 17,
     "metadata": {},
     "output_type": "execute_result"
    }
   ],
   "source": [
    "laptops_data = laptops_data.apply(lambda x: x.fillna(x.mean()))\n",
    "laptops_data"
   ]
  },
  {
   "cell_type": "code",
   "execution_count": 18,
   "id": "006ad30e",
   "metadata": {},
   "outputs": [
    {
     "data": {
      "text/plain": [
       "0"
      ]
     },
     "execution_count": 18,
     "metadata": {},
     "output_type": "execute_result"
    }
   ],
   "source": [
    "laptops_data.isnull().sum().sum()"
   ]
  },
  {
   "cell_type": "code",
   "execution_count": 19,
   "id": "9161d9a4",
   "metadata": {},
   "outputs": [
    {
     "data": {
      "text/html": [
       "<div>\n",
       "<style scoped>\n",
       "    .dataframe tbody tr th:only-of-type {\n",
       "        vertical-align: middle;\n",
       "    }\n",
       "\n",
       "    .dataframe tbody tr th {\n",
       "        vertical-align: top;\n",
       "    }\n",
       "\n",
       "    .dataframe thead th {\n",
       "        text-align: right;\n",
       "    }\n",
       "</style>\n",
       "<table border=\"1\" class=\"dataframe\">\n",
       "  <thead>\n",
       "    <tr style=\"text-align: right;\">\n",
       "      <th></th>\n",
       "      <th>Status</th>\n",
       "      <th>RAM</th>\n",
       "      <th>Storage</th>\n",
       "      <th>Screen</th>\n",
       "      <th>Touch</th>\n",
       "      <th>Final Price</th>\n",
       "    </tr>\n",
       "  </thead>\n",
       "  <tbody>\n",
       "    <tr>\n",
       "      <th>0</th>\n",
       "      <td>0</td>\n",
       "      <td>8</td>\n",
       "      <td>512</td>\n",
       "      <td>15.6</td>\n",
       "      <td>0</td>\n",
       "      <td>1009.00</td>\n",
       "    </tr>\n",
       "    <tr>\n",
       "      <th>1</th>\n",
       "      <td>0</td>\n",
       "      <td>8</td>\n",
       "      <td>256</td>\n",
       "      <td>15.6</td>\n",
       "      <td>0</td>\n",
       "      <td>299.00</td>\n",
       "    </tr>\n",
       "    <tr>\n",
       "      <th>2</th>\n",
       "      <td>0</td>\n",
       "      <td>8</td>\n",
       "      <td>256</td>\n",
       "      <td>15.6</td>\n",
       "      <td>0</td>\n",
       "      <td>789.00</td>\n",
       "    </tr>\n",
       "    <tr>\n",
       "      <th>3</th>\n",
       "      <td>0</td>\n",
       "      <td>16</td>\n",
       "      <td>1000</td>\n",
       "      <td>15.6</td>\n",
       "      <td>0</td>\n",
       "      <td>1199.00</td>\n",
       "    </tr>\n",
       "    <tr>\n",
       "      <th>4</th>\n",
       "      <td>0</td>\n",
       "      <td>16</td>\n",
       "      <td>512</td>\n",
       "      <td>15.6</td>\n",
       "      <td>0</td>\n",
       "      <td>669.01</td>\n",
       "    </tr>\n",
       "    <tr>\n",
       "      <th>...</th>\n",
       "      <td>...</td>\n",
       "      <td>...</td>\n",
       "      <td>...</td>\n",
       "      <td>...</td>\n",
       "      <td>...</td>\n",
       "      <td>...</td>\n",
       "    </tr>\n",
       "    <tr>\n",
       "      <th>2155</th>\n",
       "      <td>1</td>\n",
       "      <td>16</td>\n",
       "      <td>1000</td>\n",
       "      <td>17.3</td>\n",
       "      <td>0</td>\n",
       "      <td>2699.99</td>\n",
       "    </tr>\n",
       "    <tr>\n",
       "      <th>2156</th>\n",
       "      <td>1</td>\n",
       "      <td>16</td>\n",
       "      <td>1000</td>\n",
       "      <td>17.3</td>\n",
       "      <td>0</td>\n",
       "      <td>2899.99</td>\n",
       "    </tr>\n",
       "    <tr>\n",
       "      <th>2157</th>\n",
       "      <td>1</td>\n",
       "      <td>32</td>\n",
       "      <td>1000</td>\n",
       "      <td>17.3</td>\n",
       "      <td>0</td>\n",
       "      <td>3399.99</td>\n",
       "    </tr>\n",
       "    <tr>\n",
       "      <th>2158</th>\n",
       "      <td>1</td>\n",
       "      <td>16</td>\n",
       "      <td>1000</td>\n",
       "      <td>13.4</td>\n",
       "      <td>1</td>\n",
       "      <td>1899.99</td>\n",
       "    </tr>\n",
       "    <tr>\n",
       "      <th>2159</th>\n",
       "      <td>1</td>\n",
       "      <td>16</td>\n",
       "      <td>256</td>\n",
       "      <td>13.4</td>\n",
       "      <td>1</td>\n",
       "      <td>1699.99</td>\n",
       "    </tr>\n",
       "  </tbody>\n",
       "</table>\n",
       "<p>2160 rows × 6 columns</p>\n",
       "</div>"
      ],
      "text/plain": [
       "      Status  RAM  Storage  Screen  Touch  Final Price\n",
       "0          0    8      512    15.6      0      1009.00\n",
       "1          0    8      256    15.6      0       299.00\n",
       "2          0    8      256    15.6      0       789.00\n",
       "3          0   16     1000    15.6      0      1199.00\n",
       "4          0   16      512    15.6      0       669.01\n",
       "...      ...  ...      ...     ...    ...          ...\n",
       "2155       1   16     1000    17.3      0      2699.99\n",
       "2156       1   16     1000    17.3      0      2899.99\n",
       "2157       1   32     1000    17.3      0      3399.99\n",
       "2158       1   16     1000    13.4      1      1899.99\n",
       "2159       1   16      256    13.4      1      1699.99\n",
       "\n",
       "[2160 rows x 6 columns]"
      ]
     },
     "execution_count": 19,
     "metadata": {},
     "output_type": "execute_result"
    }
   ],
   "source": [
    "laptops_data"
   ]
  },
  {
   "cell_type": "code",
   "execution_count": 20,
   "id": "1633644e",
   "metadata": {},
   "outputs": [
    {
     "data": {
      "text/html": [
       "<div>\n",
       "<style scoped>\n",
       "    .dataframe tbody tr th:only-of-type {\n",
       "        vertical-align: middle;\n",
       "    }\n",
       "\n",
       "    .dataframe tbody tr th {\n",
       "        vertical-align: top;\n",
       "    }\n",
       "\n",
       "    .dataframe thead th {\n",
       "        text-align: right;\n",
       "    }\n",
       "</style>\n",
       "<table border=\"1\" class=\"dataframe\">\n",
       "  <thead>\n",
       "    <tr style=\"text-align: right;\">\n",
       "      <th></th>\n",
       "      <th>Status</th>\n",
       "      <th>RAM</th>\n",
       "      <th>Storage</th>\n",
       "      <th>Screen</th>\n",
       "      <th>Touch</th>\n",
       "      <th>Final Price</th>\n",
       "    </tr>\n",
       "  </thead>\n",
       "  <tbody>\n",
       "    <tr>\n",
       "      <th>count</th>\n",
       "      <td>2160.000000</td>\n",
       "      <td>2160.000000</td>\n",
       "      <td>2160.000000</td>\n",
       "      <td>2160.000000</td>\n",
       "      <td>2160.000000</td>\n",
       "      <td>2160.000000</td>\n",
       "    </tr>\n",
       "    <tr>\n",
       "      <th>mean</th>\n",
       "      <td>0.306481</td>\n",
       "      <td>15.413889</td>\n",
       "      <td>596.294444</td>\n",
       "      <td>15.168112</td>\n",
       "      <td>0.105093</td>\n",
       "      <td>1312.638509</td>\n",
       "    </tr>\n",
       "    <tr>\n",
       "      <th>std</th>\n",
       "      <td>0.461139</td>\n",
       "      <td>9.867815</td>\n",
       "      <td>361.220506</td>\n",
       "      <td>1.202214</td>\n",
       "      <td>0.306744</td>\n",
       "      <td>911.475417</td>\n",
       "    </tr>\n",
       "    <tr>\n",
       "      <th>min</th>\n",
       "      <td>0.000000</td>\n",
       "      <td>4.000000</td>\n",
       "      <td>0.000000</td>\n",
       "      <td>10.100000</td>\n",
       "      <td>0.000000</td>\n",
       "      <td>201.050000</td>\n",
       "    </tr>\n",
       "    <tr>\n",
       "      <th>25%</th>\n",
       "      <td>0.000000</td>\n",
       "      <td>8.000000</td>\n",
       "      <td>256.000000</td>\n",
       "      <td>14.000000</td>\n",
       "      <td>0.000000</td>\n",
       "      <td>661.082500</td>\n",
       "    </tr>\n",
       "    <tr>\n",
       "      <th>50%</th>\n",
       "      <td>0.000000</td>\n",
       "      <td>16.000000</td>\n",
       "      <td>512.000000</td>\n",
       "      <td>15.600000</td>\n",
       "      <td>0.000000</td>\n",
       "      <td>1031.945000</td>\n",
       "    </tr>\n",
       "    <tr>\n",
       "      <th>75%</th>\n",
       "      <td>1.000000</td>\n",
       "      <td>16.000000</td>\n",
       "      <td>1000.000000</td>\n",
       "      <td>15.600000</td>\n",
       "      <td>0.000000</td>\n",
       "      <td>1708.970000</td>\n",
       "    </tr>\n",
       "    <tr>\n",
       "      <th>max</th>\n",
       "      <td>1.000000</td>\n",
       "      <td>128.000000</td>\n",
       "      <td>4000.000000</td>\n",
       "      <td>18.000000</td>\n",
       "      <td>1.000000</td>\n",
       "      <td>7150.470000</td>\n",
       "    </tr>\n",
       "  </tbody>\n",
       "</table>\n",
       "</div>"
      ],
      "text/plain": [
       "            Status          RAM      Storage       Screen        Touch  \\\n",
       "count  2160.000000  2160.000000  2160.000000  2160.000000  2160.000000   \n",
       "mean      0.306481    15.413889   596.294444    15.168112     0.105093   \n",
       "std       0.461139     9.867815   361.220506     1.202214     0.306744   \n",
       "min       0.000000     4.000000     0.000000    10.100000     0.000000   \n",
       "25%       0.000000     8.000000   256.000000    14.000000     0.000000   \n",
       "50%       0.000000    16.000000   512.000000    15.600000     0.000000   \n",
       "75%       1.000000    16.000000  1000.000000    15.600000     0.000000   \n",
       "max       1.000000   128.000000  4000.000000    18.000000     1.000000   \n",
       "\n",
       "       Final Price  \n",
       "count  2160.000000  \n",
       "mean   1312.638509  \n",
       "std     911.475417  \n",
       "min     201.050000  \n",
       "25%     661.082500  \n",
       "50%    1031.945000  \n",
       "75%    1708.970000  \n",
       "max    7150.470000  "
      ]
     },
     "execution_count": 20,
     "metadata": {},
     "output_type": "execute_result"
    }
   ],
   "source": [
    "laptops_data.describe()"
   ]
  },
  {
   "cell_type": "markdown",
   "id": "bb79fd3f",
   "metadata": {},
   "source": [
    "Veriyi train ve test olarak ayırıyorum."
   ]
  },
  {
   "cell_type": "code",
   "execution_count": 21,
   "id": "a2463064",
   "metadata": {},
   "outputs": [],
   "source": [
    "laptops_DF_train, laptops_DF_test = train_test_split(laptops_data,\n",
    "                                         test_size=0.2,\n",
    "                                         random_state=121521014)"
   ]
  },
  {
   "cell_type": "markdown",
   "id": "4442255f",
   "metadata": {},
   "source": [
    "'MinMax' ile ölçeklendiriyorum."
   ]
  },
  {
   "cell_type": "code",
   "execution_count": 22,
   "id": "93a5b53c",
   "metadata": {},
   "outputs": [],
   "source": [
    "scaler = MinMaxScaler()"
   ]
  },
  {
   "cell_type": "code",
   "execution_count": 23,
   "id": "83839f11",
   "metadata": {},
   "outputs": [],
   "source": [
    "variables = list(laptops_DF_train.columns)"
   ]
  },
  {
   "cell_type": "code",
   "execution_count": 24,
   "id": "52555717",
   "metadata": {},
   "outputs": [],
   "source": [
    "laptops_DF_train[variables] = scaler.fit_transform(laptops_DF_train[variables])\n",
    "laptops_DF_test[variables] = scaler.transform(laptops_DF_test[variables])"
   ]
  },
  {
   "cell_type": "code",
   "execution_count": 25,
   "id": "8b5f3440",
   "metadata": {},
   "outputs": [
    {
     "data": {
      "text/html": [
       "<div>\n",
       "<style scoped>\n",
       "    .dataframe tbody tr th:only-of-type {\n",
       "        vertical-align: middle;\n",
       "    }\n",
       "\n",
       "    .dataframe tbody tr th {\n",
       "        vertical-align: top;\n",
       "    }\n",
       "\n",
       "    .dataframe thead th {\n",
       "        text-align: right;\n",
       "    }\n",
       "</style>\n",
       "<table border=\"1\" class=\"dataframe\">\n",
       "  <thead>\n",
       "    <tr style=\"text-align: right;\">\n",
       "      <th></th>\n",
       "      <th>Status</th>\n",
       "      <th>RAM</th>\n",
       "      <th>Storage</th>\n",
       "      <th>Screen</th>\n",
       "      <th>Touch</th>\n",
       "      <th>Final Price</th>\n",
       "    </tr>\n",
       "  </thead>\n",
       "  <tbody>\n",
       "    <tr>\n",
       "      <th>count</th>\n",
       "      <td>1728.000000</td>\n",
       "      <td>1728.000000</td>\n",
       "      <td>1728.000000</td>\n",
       "      <td>1728.000000</td>\n",
       "      <td>1728.000000</td>\n",
       "      <td>1728.000000</td>\n",
       "    </tr>\n",
       "    <tr>\n",
       "      <th>mean</th>\n",
       "      <td>0.309028</td>\n",
       "      <td>0.189390</td>\n",
       "      <td>0.149196</td>\n",
       "      <td>0.643857</td>\n",
       "      <td>0.100694</td>\n",
       "      <td>0.160345</td>\n",
       "    </tr>\n",
       "    <tr>\n",
       "      <th>std</th>\n",
       "      <td>0.462226</td>\n",
       "      <td>0.162832</td>\n",
       "      <td>0.092374</td>\n",
       "      <td>0.150918</td>\n",
       "      <td>0.301011</td>\n",
       "      <td>0.133870</td>\n",
       "    </tr>\n",
       "    <tr>\n",
       "      <th>min</th>\n",
       "      <td>0.000000</td>\n",
       "      <td>0.000000</td>\n",
       "      <td>0.000000</td>\n",
       "      <td>0.000000</td>\n",
       "      <td>0.000000</td>\n",
       "      <td>0.000000</td>\n",
       "    </tr>\n",
       "    <tr>\n",
       "      <th>25%</th>\n",
       "      <td>0.000000</td>\n",
       "      <td>0.066667</td>\n",
       "      <td>0.064000</td>\n",
       "      <td>0.493671</td>\n",
       "      <td>0.000000</td>\n",
       "      <td>0.064458</td>\n",
       "    </tr>\n",
       "    <tr>\n",
       "      <th>50%</th>\n",
       "      <td>0.000000</td>\n",
       "      <td>0.200000</td>\n",
       "      <td>0.128000</td>\n",
       "      <td>0.696203</td>\n",
       "      <td>0.000000</td>\n",
       "      <td>0.118585</td>\n",
       "    </tr>\n",
       "    <tr>\n",
       "      <th>75%</th>\n",
       "      <td>1.000000</td>\n",
       "      <td>0.200000</td>\n",
       "      <td>0.250000</td>\n",
       "      <td>0.696203</td>\n",
       "      <td>0.000000</td>\n",
       "      <td>0.219910</td>\n",
       "    </tr>\n",
       "    <tr>\n",
       "      <th>max</th>\n",
       "      <td>1.000000</td>\n",
       "      <td>1.000000</td>\n",
       "      <td>1.000000</td>\n",
       "      <td>1.000000</td>\n",
       "      <td>1.000000</td>\n",
       "      <td>1.000000</td>\n",
       "    </tr>\n",
       "  </tbody>\n",
       "</table>\n",
       "</div>"
      ],
      "text/plain": [
       "            Status          RAM      Storage       Screen        Touch  \\\n",
       "count  1728.000000  1728.000000  1728.000000  1728.000000  1728.000000   \n",
       "mean      0.309028     0.189390     0.149196     0.643857     0.100694   \n",
       "std       0.462226     0.162832     0.092374     0.150918     0.301011   \n",
       "min       0.000000     0.000000     0.000000     0.000000     0.000000   \n",
       "25%       0.000000     0.066667     0.064000     0.493671     0.000000   \n",
       "50%       0.000000     0.200000     0.128000     0.696203     0.000000   \n",
       "75%       1.000000     0.200000     0.250000     0.696203     0.000000   \n",
       "max       1.000000     1.000000     1.000000     1.000000     1.000000   \n",
       "\n",
       "       Final Price  \n",
       "count  1728.000000  \n",
       "mean      0.160345  \n",
       "std       0.133870  \n",
       "min       0.000000  \n",
       "25%       0.064458  \n",
       "50%       0.118585  \n",
       "75%       0.219910  \n",
       "max       1.000000  "
      ]
     },
     "execution_count": 25,
     "metadata": {},
     "output_type": "execute_result"
    }
   ],
   "source": [
    "laptops_DF_train.describe()"
   ]
  },
  {
   "cell_type": "code",
   "execution_count": 26,
   "id": "b229dea0",
   "metadata": {},
   "outputs": [],
   "source": [
    "y_train_scaled = laptops_DF_train.pop(\"Final Price\")\n",
    "X_train_scaled = laptops_DF_train"
   ]
  },
  {
   "cell_type": "code",
   "execution_count": 27,
   "id": "4fd38da1",
   "metadata": {},
   "outputs": [],
   "source": [
    "y_test_scaled = laptops_DF_test.pop(\"Final Price\")\n",
    "X_test_scaled = laptops_DF_test"
   ]
  },
  {
   "cell_type": "markdown",
   "id": "b2b5eb33",
   "metadata": {},
   "source": [
    "Denediğimde en iyi performans gösteren 5 modelin performanslarına bakıyorum."
   ]
  },
  {
   "cell_type": "markdown",
   "id": "d93c4d0f",
   "metadata": {},
   "source": [
    "# 1.Multi-layer Perceptron Regressor\n",
    "&ensp;<sup>[İçeriğe git.](#İçerik)</sup>"
   ]
  },
  {
   "cell_type": "code",
   "execution_count": 28,
   "id": "3cee5dc6",
   "metadata": {},
   "outputs": [],
   "source": [
    "aNN = MLPRegressor(random_state=121521014).fit(X_train_scaled, y_train_scaled)"
   ]
  },
  {
   "cell_type": "markdown",
   "id": "984694e5",
   "metadata": {},
   "source": [
    "Model tahminlerini alıyorum."
   ]
  },
  {
   "cell_type": "code",
   "execution_count": 29,
   "id": "40cfd638",
   "metadata": {},
   "outputs": [],
   "source": [
    "y_aNN_pred_train = aNN.predict(X_train_scaled)\n",
    "y_aNN_pred_test = aNN.predict(X_test_scaled)"
   ]
  },
  {
   "cell_type": "code",
   "execution_count": 30,
   "id": "cd464712",
   "metadata": {},
   "outputs": [],
   "source": [
    "def RMSE(actual, predicted):\n",
    "    MSE = mean_squared_error(actual, predicted)\n",
    "    RMSE = np.sqrt(MSE)\n",
    "    return RMSE"
   ]
  },
  {
   "cell_type": "markdown",
   "id": "31945688",
   "metadata": {},
   "source": [
    "Modelin performansına bakmak için RMSE ve $R^2$ değerlerini buluyorum."
   ]
  },
  {
   "cell_type": "code",
   "execution_count": 31,
   "id": "34c9cf95",
   "metadata": {},
   "outputs": [],
   "source": [
    "aNN_RMSE_train = RMSE(y_train_scaled, y_aNN_pred_train)\n",
    "aNN_RMSE_test = RMSE(y_test_scaled, y_aNN_pred_test)\n",
    "aNN_R2_train = r2_score(y_train_scaled, y_aNN_pred_train)\n",
    "aNN_R2_test = r2_score(y_test_scaled, y_aNN_pred_test)"
   ]
  },
  {
   "cell_type": "markdown",
   "id": "485f7a6f",
   "metadata": {},
   "source": [
    "Tablo olarak göstermek için bir fonksiyon kullanıyorum."
   ]
  },
  {
   "cell_type": "code",
   "execution_count": 32,
   "id": "39835190",
   "metadata": {},
   "outputs": [],
   "source": [
    "def performance(train_RMSE, test_RMSE, train_R2, test_R2):\n",
    "    performance = {\"Train RMSE\": [train_RMSE],\n",
    "                   \"Test RMSE\": [test_RMSE],\n",
    "                   \"Train $R^2$\": [train_R2],\n",
    "                   \"Test $R^2$\": [test_R2]}\n",
    "    df = pd.DataFrame(performance)\n",
    "    return df"
   ]
  },
  {
   "cell_type": "markdown",
   "id": "3cd73bef",
   "metadata": {},
   "source": [
    "Test seti tahminlerinin daha iyi olduğu görülüyor. Train ve test tahminlerinin doğruluğu arasında büyük bir fark yok, bu iyi bir durum. 0'a yakın RMSE ve 62-64 arası $R^2$ değerleri ile modelin tahminlerinin iyi olduğunu ancak çok da başarılı olmadığını söyleyebilirim."
   ]
  },
  {
   "cell_type": "code",
   "execution_count": 33,
   "id": "c4d095b9",
   "metadata": {},
   "outputs": [
    {
     "data": {
      "text/html": [
       "<style type=\"text/css\">\n",
       "</style>\n",
       "<table id=\"T_01056\">\n",
       "  <caption>MLPRegressor</caption>\n",
       "  <thead>\n",
       "    <tr>\n",
       "      <th class=\"blank level0\" >&nbsp;</th>\n",
       "      <th id=\"T_01056_level0_col0\" class=\"col_heading level0 col0\" >Train RMSE</th>\n",
       "      <th id=\"T_01056_level0_col1\" class=\"col_heading level0 col1\" >Test RMSE</th>\n",
       "      <th id=\"T_01056_level0_col2\" class=\"col_heading level0 col2\" >Train $R^2$</th>\n",
       "      <th id=\"T_01056_level0_col3\" class=\"col_heading level0 col3\" >Test $R^2$</th>\n",
       "    </tr>\n",
       "  </thead>\n",
       "  <tbody>\n",
       "    <tr>\n",
       "      <th id=\"T_01056_level0_row0\" class=\"row_heading level0 row0\" >0</th>\n",
       "      <td id=\"T_01056_row0_col0\" class=\"data row0 col0\" >0.081546</td>\n",
       "      <td id=\"T_01056_row0_col1\" class=\"data row0 col1\" >0.071413</td>\n",
       "      <td id=\"T_01056_row0_col2\" class=\"data row0 col2\" >0.628732</td>\n",
       "      <td id=\"T_01056_row0_col3\" class=\"data row0 col3\" >0.644027</td>\n",
       "    </tr>\n",
       "  </tbody>\n",
       "</table>\n"
      ],
      "text/plain": [
       "<pandas.io.formats.style.Styler at 0x1c57368d3a0>"
      ]
     },
     "execution_count": 33,
     "metadata": {},
     "output_type": "execute_result"
    }
   ],
   "source": [
    "MLP = performance(aNN_RMSE_train, aNN_RMSE_test, aNN_R2_train, aNN_R2_test)\n",
    "MLP = MLP.style.set_caption(\"MLPRegressor\")\n",
    "MLP"
   ]
  },
  {
   "cell_type": "markdown",
   "id": "c348eb74",
   "metadata": {},
   "source": [
    "#### 1.1.Grid Search Cross Validation\n",
    "&nbsp;<sup>[İçeriğe git.](#İçerik)</sup>"
   ]
  },
  {
   "cell_type": "markdown",
   "id": "28ca990c",
   "metadata": {},
   "source": [
    "MLPRegressor hiperparametrelerinden bazılarını belirliyorum."
   ]
  },
  {
   "cell_type": "code",
   "execution_count": 34,
   "id": "b2627ce0",
   "metadata": {},
   "outputs": [],
   "source": [
    "#?aNN\n",
    "aNN_params = {\"alpha\":[0.0001, 0.01, 0.1, 0.2],\n",
    "              \"hidden_layer_sizes\":[(100,), (100,100)]}"
   ]
  },
  {
   "cell_type": "code",
   "execution_count": 35,
   "id": "3a6ee709",
   "metadata": {},
   "outputs": [],
   "source": [
    "aNNfCV = MLPRegressor(random_state=121521014)"
   ]
  },
  {
   "cell_type": "markdown",
   "id": "fa3bd3d0",
   "metadata": {},
   "source": [
    "En iyi parameterleri bulmak için 10 foldluk GridSearch yapıyorum."
   ]
  },
  {
   "cell_type": "code",
   "execution_count": 36,
   "id": "49ccc1c3",
   "metadata": {},
   "outputs": [
    {
     "name": "stdout",
     "output_type": "stream",
     "text": [
      "Fitting 10 folds for each of 8 candidates, totalling 80 fits\n"
     ]
    }
   ],
   "source": [
    "aNN_CVGS = GridSearchCV(aNNfCV, aNN_params,\n",
    "                        cv=10,\n",
    "                        n_jobs=-1,\n",
    "                        verbose=2).fit(X_train_scaled, y_train_scaled)"
   ]
  },
  {
   "cell_type": "code",
   "execution_count": 37,
   "id": "57e8bd60",
   "metadata": {},
   "outputs": [
    {
     "data": {
      "text/plain": [
       "{'alpha': 0.1, 'hidden_layer_sizes': (100, 100)}"
      ]
     },
     "execution_count": 37,
     "metadata": {},
     "output_type": "execute_result"
    }
   ],
   "source": [
    "aNN_CVGS.best_params_"
   ]
  },
  {
   "cell_type": "markdown",
   "id": "589052e0",
   "metadata": {},
   "source": [
    "En iyi olarak seçilen parametrelerle yeniden model kuruyorum."
   ]
  },
  {
   "cell_type": "code",
   "execution_count": 38,
   "id": "9e03df77",
   "metadata": {},
   "outputs": [],
   "source": [
    "aNN_CVGS_tuned = MLPRegressor(alpha=aNN_CVGS.best_params_[\"alpha\"], \n",
    "                              hidden_layer_sizes=aNN_CVGS.best_params_[\"hidden_layer_sizes\"]).fit(X_train_scaled, y_train_scaled)"
   ]
  },
  {
   "cell_type": "markdown",
   "id": "f4ae5c2b",
   "metadata": {},
   "source": [
    "Tahminleri alıyorum."
   ]
  },
  {
   "cell_type": "code",
   "execution_count": 39,
   "id": "8e454c8b",
   "metadata": {},
   "outputs": [],
   "source": [
    "CVGS_pred_aNN_train = aNN_CVGS_tuned.predict(X_train_scaled)\n",
    "CVGS_pred_aNN_test = aNN_CVGS_tuned.predict(X_test_scaled)"
   ]
  },
  {
   "cell_type": "markdown",
   "id": "335ffe95",
   "metadata": {},
   "source": [
    "RMSE ve $R^2$ değerlerini buluyorum."
   ]
  },
  {
   "cell_type": "code",
   "execution_count": 40,
   "id": "b4d19ce8",
   "metadata": {},
   "outputs": [],
   "source": [
    "CVGS_aNN_RMSE_train = RMSE(y_train_scaled, CVGS_pred_aNN_train)\n",
    "CVGS_aNN_RMSE_test = RMSE(y_test_scaled, CVGS_pred_aNN_test)\n",
    "CVGS_aNN_R2_train = r2_score(y_train_scaled, CVGS_pred_aNN_train)\n",
    "CVGS_aNN_R2_test = r2_score(y_test_scaled, CVGS_pred_aNN_test)"
   ]
  },
  {
   "cell_type": "markdown",
   "id": "7eba58c3",
   "metadata": {},
   "source": [
    "Modeli tune ettiğimizde performansın az da olsa arttığını görebiliyorum."
   ]
  },
  {
   "cell_type": "code",
   "execution_count": 41,
   "id": "ef8c0222",
   "metadata": {},
   "outputs": [
    {
     "data": {
      "text/html": [
       "<style type=\"text/css\">\n",
       "</style>\n",
       "<table id=\"T_01056\">\n",
       "  <caption>MLPRegressor</caption>\n",
       "  <thead>\n",
       "    <tr>\n",
       "      <th class=\"blank level0\" >&nbsp;</th>\n",
       "      <th id=\"T_01056_level0_col0\" class=\"col_heading level0 col0\" >Train RMSE</th>\n",
       "      <th id=\"T_01056_level0_col1\" class=\"col_heading level0 col1\" >Test RMSE</th>\n",
       "      <th id=\"T_01056_level0_col2\" class=\"col_heading level0 col2\" >Train $R^2$</th>\n",
       "      <th id=\"T_01056_level0_col3\" class=\"col_heading level0 col3\" >Test $R^2$</th>\n",
       "    </tr>\n",
       "  </thead>\n",
       "  <tbody>\n",
       "    <tr>\n",
       "      <th id=\"T_01056_level0_row0\" class=\"row_heading level0 row0\" >0</th>\n",
       "      <td id=\"T_01056_row0_col0\" class=\"data row0 col0\" >0.081546</td>\n",
       "      <td id=\"T_01056_row0_col1\" class=\"data row0 col1\" >0.071413</td>\n",
       "      <td id=\"T_01056_row0_col2\" class=\"data row0 col2\" >0.628732</td>\n",
       "      <td id=\"T_01056_row0_col3\" class=\"data row0 col3\" >0.644027</td>\n",
       "    </tr>\n",
       "  </tbody>\n",
       "</table>\n"
      ],
      "text/plain": [
       "<pandas.io.formats.style.Styler at 0x1c57368d3a0>"
      ]
     },
     "execution_count": 41,
     "metadata": {},
     "output_type": "execute_result"
    }
   ],
   "source": [
    "MLP"
   ]
  },
  {
   "cell_type": "code",
   "execution_count": 42,
   "id": "5fcdc4fd",
   "metadata": {},
   "outputs": [
    {
     "data": {
      "text/html": [
       "<style type=\"text/css\">\n",
       "</style>\n",
       "<table id=\"T_cb4f9\">\n",
       "  <caption>CVGS Tuned MLPRegressor</caption>\n",
       "  <thead>\n",
       "    <tr>\n",
       "      <th class=\"blank level0\" >&nbsp;</th>\n",
       "      <th id=\"T_cb4f9_level0_col0\" class=\"col_heading level0 col0\" >Train RMSE</th>\n",
       "      <th id=\"T_cb4f9_level0_col1\" class=\"col_heading level0 col1\" >Test RMSE</th>\n",
       "      <th id=\"T_cb4f9_level0_col2\" class=\"col_heading level0 col2\" >Train $R^2$</th>\n",
       "      <th id=\"T_cb4f9_level0_col3\" class=\"col_heading level0 col3\" >Test $R^2$</th>\n",
       "    </tr>\n",
       "  </thead>\n",
       "  <tbody>\n",
       "    <tr>\n",
       "      <th id=\"T_cb4f9_level0_row0\" class=\"row_heading level0 row0\" >0</th>\n",
       "      <td id=\"T_cb4f9_row0_col0\" class=\"data row0 col0\" >0.080478</td>\n",
       "      <td id=\"T_cb4f9_row0_col1\" class=\"data row0 col1\" >0.070140</td>\n",
       "      <td id=\"T_cb4f9_row0_col2\" class=\"data row0 col2\" >0.638392</td>\n",
       "      <td id=\"T_cb4f9_row0_col3\" class=\"data row0 col3\" >0.656612</td>\n",
       "    </tr>\n",
       "  </tbody>\n",
       "</table>\n"
      ],
      "text/plain": [
       "<pandas.io.formats.style.Styler at 0x1c572ff3f50>"
      ]
     },
     "execution_count": 42,
     "metadata": {},
     "output_type": "execute_result"
    }
   ],
   "source": [
    "CVGS_MLP = performance(CVGS_aNN_RMSE_train, CVGS_aNN_RMSE_test, CVGS_aNN_R2_train, CVGS_aNN_R2_test)\n",
    "CVGS_MLP = CVGS_MLP.style.set_caption(\"CVGS Tuned MLPRegressor\")\n",
    "CVGS_MLP"
   ]
  },
  {
   "cell_type": "markdown",
   "id": "578d5de4",
   "metadata": {},
   "source": [
    "# 2.K-Nearest Neighbors Regressor\n",
    "&nbsp;<sup>[İçeriğe git.](#İçerik)</sup>"
   ]
  },
  {
   "cell_type": "markdown",
   "id": "8e1d2dc2",
   "metadata": {},
   "source": [
    "Aynı işlemleri bu model için de yapıyorum."
   ]
  },
  {
   "cell_type": "code",
   "execution_count": 43,
   "id": "edf74289",
   "metadata": {},
   "outputs": [],
   "source": [
    "kNN = KNeighborsRegressor().fit(X_train_scaled, y_train_scaled)"
   ]
  },
  {
   "cell_type": "code",
   "execution_count": 44,
   "id": "7b1ba02e",
   "metadata": {},
   "outputs": [],
   "source": [
    "y_pred_kNN_train = kNN.predict(X_train_scaled)\n",
    "y_pred_kNN_test = kNN.predict(X_test_scaled)"
   ]
  },
  {
   "cell_type": "code",
   "execution_count": 45,
   "id": "47331871",
   "metadata": {},
   "outputs": [],
   "source": [
    "kNN_RMSE_train = RMSE(y_train_scaled, y_pred_kNN_train)\n",
    "kNN_RMSE_test = RMSE(y_test_scaled, y_pred_kNN_test)\n",
    "kNN_R2_train = r2_score(y_train_scaled, y_pred_kNN_train)\n",
    "kNN_R2_test = r2_score(y_test_scaled, y_pred_kNN_test)"
   ]
  },
  {
   "cell_type": "markdown",
   "id": "46ebb34e",
   "metadata": {},
   "source": [
    "Bu modelin MLPRegressor'dan daha iyi performan gösterdiğini söyleyebilirim. Train seti için Test setinden daha iyi performans gösterse de arada çok büyük bir fark yok."
   ]
  },
  {
   "cell_type": "code",
   "execution_count": 46,
   "id": "e8468b19",
   "metadata": {},
   "outputs": [
    {
     "data": {
      "text/html": [
       "<style type=\"text/css\">\n",
       "</style>\n",
       "<table id=\"T_fbb39\">\n",
       "  <caption>KNeighborsRegressor</caption>\n",
       "  <thead>\n",
       "    <tr>\n",
       "      <th class=\"blank level0\" >&nbsp;</th>\n",
       "      <th id=\"T_fbb39_level0_col0\" class=\"col_heading level0 col0\" >Train RMSE</th>\n",
       "      <th id=\"T_fbb39_level0_col1\" class=\"col_heading level0 col1\" >Test RMSE</th>\n",
       "      <th id=\"T_fbb39_level0_col2\" class=\"col_heading level0 col2\" >Train $R^2$</th>\n",
       "      <th id=\"T_fbb39_level0_col3\" class=\"col_heading level0 col3\" >Test $R^2$</th>\n",
       "    </tr>\n",
       "  </thead>\n",
       "  <tbody>\n",
       "    <tr>\n",
       "      <th id=\"T_fbb39_level0_row0\" class=\"row_heading level0 row0\" >0</th>\n",
       "      <td id=\"T_fbb39_row0_col0\" class=\"data row0 col0\" >0.076265</td>\n",
       "      <td id=\"T_fbb39_row0_col1\" class=\"data row0 col1\" >0.070936</td>\n",
       "      <td id=\"T_fbb39_row0_col2\" class=\"data row0 col2\" >0.675258</td>\n",
       "      <td id=\"T_fbb39_row0_col3\" class=\"data row0 col3\" >0.648775</td>\n",
       "    </tr>\n",
       "  </tbody>\n",
       "</table>\n"
      ],
      "text/plain": [
       "<pandas.io.formats.style.Styler at 0x1c573664230>"
      ]
     },
     "execution_count": 46,
     "metadata": {},
     "output_type": "execute_result"
    }
   ],
   "source": [
    "KNeighbors = performance(kNN_RMSE_train, kNN_RMSE_test, kNN_R2_train, kNN_R2_test)\n",
    "KNeighbors = KNeighbors.style.set_caption(\"KNeighborsRegressor\")\n",
    "KNeighbors"
   ]
  },
  {
   "cell_type": "markdown",
   "id": "f2f00626",
   "metadata": {},
   "source": [
    "#### 2.1.Grid Search Cross Validation\n",
    "&nbsp;<sup>[İçeriğe git.](#İçerik)</sup>"
   ]
  },
  {
   "cell_type": "markdown",
   "id": "f3223b24",
   "metadata": {},
   "source": [
    "KNeighborsRegressor hiperparametrelerinden bazılarını belirliyorum."
   ]
  },
  {
   "cell_type": "code",
   "execution_count": 47,
   "id": "69bf33fb",
   "metadata": {},
   "outputs": [],
   "source": [
    "#?kNN\n",
    "kNN_params = {\"n_neighbors\":np.arange(20,30,1),\n",
    "              \"weights\": ['uniform', 'distance']}"
   ]
  },
  {
   "cell_type": "code",
   "execution_count": 48,
   "id": "4c86c58e",
   "metadata": {},
   "outputs": [],
   "source": [
    "kNNfCV = KNeighborsRegressor()"
   ]
  },
  {
   "cell_type": "markdown",
   "id": "3137e54e",
   "metadata": {},
   "source": [
    "En iyi parameterleri bulmak için 10 foldluk bir GridSearch yapıyorum."
   ]
  },
  {
   "cell_type": "code",
   "execution_count": 49,
   "id": "254aa679",
   "metadata": {},
   "outputs": [
    {
     "name": "stdout",
     "output_type": "stream",
     "text": [
      "Fitting 10 folds for each of 20 candidates, totalling 200 fits\n"
     ]
    }
   ],
   "source": [
    "kNN_CVGS = GridSearchCV(kNNfCV, \n",
    "                        kNN_params,\n",
    "                        cv=10,\n",
    "                        n_jobs=-1,\n",
    "                        verbose=2).fit(X_train_scaled, y_train_scaled)"
   ]
  },
  {
   "cell_type": "code",
   "execution_count": 50,
   "id": "d450b7e3",
   "metadata": {},
   "outputs": [
    {
     "data": {
      "text/plain": [
       "{'n_neighbors': 29, 'weights': 'distance'}"
      ]
     },
     "execution_count": 50,
     "metadata": {},
     "output_type": "execute_result"
    }
   ],
   "source": [
    "kNN_CVGS.best_params_"
   ]
  },
  {
   "cell_type": "markdown",
   "id": "13ca553e",
   "metadata": {},
   "source": [
    "En iyi olarak seçilen parametrelerle yeniden model kuruyorum."
   ]
  },
  {
   "cell_type": "code",
   "execution_count": 51,
   "id": "d298f45e",
   "metadata": {},
   "outputs": [],
   "source": [
    "kNN_CVGS_tuned = KNeighborsRegressor(n_neighbors=kNN_CVGS.best_params_[\"n_neighbors\"],\n",
    "                                     weights=kNN_CVGS.best_params_[\"weights\"]).fit(X_train_scaled,y_train_scaled)"
   ]
  },
  {
   "cell_type": "markdown",
   "id": "25fc7261",
   "metadata": {},
   "source": [
    "Tahminleri alıyorum."
   ]
  },
  {
   "cell_type": "code",
   "execution_count": 52,
   "id": "779b8575",
   "metadata": {},
   "outputs": [],
   "source": [
    "CVGS_pred_kNN_train = kNN_CVGS_tuned.predict(X_train_scaled)\n",
    "CVGS_pred_kNN_test = kNN_CVGS_tuned.predict(X_test_scaled)"
   ]
  },
  {
   "cell_type": "markdown",
   "id": "a3404405",
   "metadata": {},
   "source": [
    "RMSE ve $R^2$ değerlerini buluyorum."
   ]
  },
  {
   "cell_type": "code",
   "execution_count": 53,
   "id": "60bffa1d",
   "metadata": {},
   "outputs": [],
   "source": [
    "CVGS_kNN_RMSE_train = RMSE(y_train_scaled, CVGS_pred_kNN_train)\n",
    "CVGS_kNN_RMSE_test = RMSE(y_test_scaled, CVGS_pred_kNN_test)\n",
    "CVGS_kNN_R2_train = r2_score(y_train_scaled, CVGS_pred_kNN_train)\n",
    "CVGS_kNN_R2_test = r2_score(y_test_scaled, CVGS_pred_kNN_test)"
   ]
  },
  {
   "cell_type": "markdown",
   "id": "2b0f8cc3",
   "metadata": {},
   "source": [
    "Performansın, Train seti için dikkate değer miktarda azaldığını fakat Test seti için az da olsa arttığını görebiliyorum."
   ]
  },
  {
   "cell_type": "code",
   "execution_count": 54,
   "id": "9beca032",
   "metadata": {},
   "outputs": [
    {
     "data": {
      "text/html": [
       "<style type=\"text/css\">\n",
       "</style>\n",
       "<table id=\"T_fbb39\">\n",
       "  <caption>KNeighborsRegressor</caption>\n",
       "  <thead>\n",
       "    <tr>\n",
       "      <th class=\"blank level0\" >&nbsp;</th>\n",
       "      <th id=\"T_fbb39_level0_col0\" class=\"col_heading level0 col0\" >Train RMSE</th>\n",
       "      <th id=\"T_fbb39_level0_col1\" class=\"col_heading level0 col1\" >Test RMSE</th>\n",
       "      <th id=\"T_fbb39_level0_col2\" class=\"col_heading level0 col2\" >Train $R^2$</th>\n",
       "      <th id=\"T_fbb39_level0_col3\" class=\"col_heading level0 col3\" >Test $R^2$</th>\n",
       "    </tr>\n",
       "  </thead>\n",
       "  <tbody>\n",
       "    <tr>\n",
       "      <th id=\"T_fbb39_level0_row0\" class=\"row_heading level0 row0\" >0</th>\n",
       "      <td id=\"T_fbb39_row0_col0\" class=\"data row0 col0\" >0.076265</td>\n",
       "      <td id=\"T_fbb39_row0_col1\" class=\"data row0 col1\" >0.070936</td>\n",
       "      <td id=\"T_fbb39_row0_col2\" class=\"data row0 col2\" >0.675258</td>\n",
       "      <td id=\"T_fbb39_row0_col3\" class=\"data row0 col3\" >0.648775</td>\n",
       "    </tr>\n",
       "  </tbody>\n",
       "</table>\n"
      ],
      "text/plain": [
       "<pandas.io.formats.style.Styler at 0x1c573664230>"
      ]
     },
     "execution_count": 54,
     "metadata": {},
     "output_type": "execute_result"
    }
   ],
   "source": [
    "KNeighbors"
   ]
  },
  {
   "cell_type": "code",
   "execution_count": 55,
   "id": "445d2b0f",
   "metadata": {},
   "outputs": [
    {
     "data": {
      "text/html": [
       "<style type=\"text/css\">\n",
       "</style>\n",
       "<table id=\"T_3cce5\">\n",
       "  <caption>CVGS Tuned KNeighborsRegressor</caption>\n",
       "  <thead>\n",
       "    <tr>\n",
       "      <th class=\"blank level0\" >&nbsp;</th>\n",
       "      <th id=\"T_3cce5_level0_col0\" class=\"col_heading level0 col0\" >Train RMSE</th>\n",
       "      <th id=\"T_3cce5_level0_col1\" class=\"col_heading level0 col1\" >Test RMSE</th>\n",
       "      <th id=\"T_3cce5_level0_col2\" class=\"col_heading level0 col2\" >Train $R^2$</th>\n",
       "      <th id=\"T_3cce5_level0_col3\" class=\"col_heading level0 col3\" >Test $R^2$</th>\n",
       "    </tr>\n",
       "  </thead>\n",
       "  <tbody>\n",
       "    <tr>\n",
       "      <th id=\"T_3cce5_level0_row0\" class=\"row_heading level0 row0\" >0</th>\n",
       "      <td id=\"T_3cce5_row0_col0\" class=\"data row0 col0\" >0.080478</td>\n",
       "      <td id=\"T_3cce5_row0_col1\" class=\"data row0 col1\" >0.070140</td>\n",
       "      <td id=\"T_3cce5_row0_col2\" class=\"data row0 col2\" >0.638392</td>\n",
       "      <td id=\"T_3cce5_row0_col3\" class=\"data row0 col3\" >0.656612</td>\n",
       "    </tr>\n",
       "  </tbody>\n",
       "</table>\n"
      ],
      "text/plain": [
       "<pandas.io.formats.style.Styler at 0x1c573666150>"
      ]
     },
     "execution_count": 55,
     "metadata": {},
     "output_type": "execute_result"
    }
   ],
   "source": [
    "CVGS_KNN = performance(CVGS_aNN_RMSE_train, CVGS_aNN_RMSE_test, CVGS_aNN_R2_train, CVGS_aNN_R2_test)\n",
    "CVGS_KNN = CVGS_KNN.style.set_caption(\"CVGS Tuned KNeighborsRegressor\")\n",
    "CVGS_KNN"
   ]
  },
  {
   "cell_type": "markdown",
   "id": "488953bd",
   "metadata": {},
   "source": [
    "(Random Forest ve sonrasında gelen modeller için ölçeklendirilmiş verinin gerek olmadığını biliyorum fakat aynı setlerle devam ettim.)"
   ]
  },
  {
   "cell_type": "markdown",
   "id": "f2088aa9",
   "metadata": {},
   "source": [
    "# 3.Random Forest Regressor\n",
    "&ensp;<sup>[İçeriğe git.](#İçerik)</sup>"
   ]
  },
  {
   "cell_type": "code",
   "execution_count": 56,
   "id": "8f57fe6a",
   "metadata": {},
   "outputs": [],
   "source": [
    "RndF = RandomForestRegressor(random_state=121521014).fit(X_train_scaled, y_train_scaled)"
   ]
  },
  {
   "cell_type": "code",
   "execution_count": 57,
   "id": "917723de",
   "metadata": {},
   "outputs": [],
   "source": [
    "def feature_importances(title, model, X):\n",
    "    feature_imp = pd.Series(model.feature_importances_,\n",
    "                        index=X.columns).sort_values(ascending=False)\n",
    "    \n",
    "    sns.barplot(x=feature_imp, y=feature_imp.index, palette='colorblind')\n",
    "    plt.xlabel('Değişken Önem Skorları')\n",
    "    plt.ylabel('Değişkenler')\n",
    "    plt.title(title)\n",
    "    return plt.show()"
   ]
  },
  {
   "cell_type": "markdown",
   "id": "cacbfceb",
   "metadata": {},
   "source": [
    "Random Forest modeli için değişkenlerin önemliliklerine bakıyorum."
   ]
  },
  {
   "cell_type": "markdown",
   "id": "d732ebf8",
   "metadata": {},
   "source": [
    "Modelde en etkili değişkenin 'Storage' ve en önemsiz değişkenin ise 'Touch' olduğunu görebiliyorum."
   ]
  },
  {
   "cell_type": "code",
   "execution_count": 58,
   "id": "a0dd3243",
   "metadata": {
    "scrolled": true
   },
   "outputs": [
    {
     "data": {
      "image/png": "[encoded data removed]",
      "text/plain": [
       "<Figure size 640x480 with 1 Axes>"
      ]
     },
     "metadata": {},
     "output_type": "display_data"
    }
   ],
   "source": [
    "RndF_features = feature_importances(\"RandomForestRegressor\", RndF, X_train_scaled)"
   ]
  },
  {
   "cell_type": "markdown",
   "id": "9dcf4283",
   "metadata": {},
   "source": [
    "Tahminleri alıyorum."
   ]
  },
  {
   "cell_type": "code",
   "execution_count": 59,
   "id": "32cbcf1e",
   "metadata": {},
   "outputs": [],
   "source": [
    "RndF_y_pred_train = RndF.predict(X_train_scaled)\n",
    "RndF_y_pred_test = RndF.predict(X_test_scaled)"
   ]
  },
  {
   "cell_type": "markdown",
   "id": "81f9b79a",
   "metadata": {},
   "source": [
    "RMSE ve $R^2$ değerlerini buluyorum."
   ]
  },
  {
   "cell_type": "code",
   "execution_count": 60,
   "id": "74cacd30",
   "metadata": {},
   "outputs": [],
   "source": [
    "RndF_RMSE_train = RMSE(y_train_scaled, RndF_y_pred_train)\n",
    "RndF_RMSE_test = RMSE(y_test_scaled,RndF_y_pred_test)\n",
    "RndF_R2_train = r2_score(y_train_scaled, RndF_y_pred_train)\n",
    "RndF_R2_test = r2_score(y_test_scaled, RndF_y_pred_test)"
   ]
  },
  {
   "cell_type": "markdown",
   "id": "bc60dce2",
   "metadata": {},
   "source": [
    "Performansı önceki iki modelden daha iyi. Train seti tahminleri Test setinden daha iyi fakat çok büyük bir fark yok."
   ]
  },
  {
   "cell_type": "code",
   "execution_count": 61,
   "id": "46193ec1",
   "metadata": {},
   "outputs": [
    {
     "data": {
      "text/html": [
       "<style type=\"text/css\">\n",
       "</style>\n",
       "<table id=\"T_76578\">\n",
       "  <caption>RandomForestRegressor</caption>\n",
       "  <thead>\n",
       "    <tr>\n",
       "      <th class=\"blank level0\" >&nbsp;</th>\n",
       "      <th id=\"T_76578_level0_col0\" class=\"col_heading level0 col0\" >Train RMSE</th>\n",
       "      <th id=\"T_76578_level0_col1\" class=\"col_heading level0 col1\" >Test RMSE</th>\n",
       "      <th id=\"T_76578_level0_col2\" class=\"col_heading level0 col2\" >Train $R^2$</th>\n",
       "      <th id=\"T_76578_level0_col3\" class=\"col_heading level0 col3\" >Test $R^2$</th>\n",
       "    </tr>\n",
       "  </thead>\n",
       "  <tbody>\n",
       "    <tr>\n",
       "      <th id=\"T_76578_level0_row0\" class=\"row_heading level0 row0\" >0</th>\n",
       "      <td id=\"T_76578_row0_col0\" class=\"data row0 col0\" >0.068266</td>\n",
       "      <td id=\"T_76578_row0_col1\" class=\"data row0 col1\" >0.068727</td>\n",
       "      <td id=\"T_76578_row0_col2\" class=\"data row0 col2\" >0.739806</td>\n",
       "      <td id=\"T_76578_row0_col3\" class=\"data row0 col3\" >0.670302</td>\n",
       "    </tr>\n",
       "  </tbody>\n",
       "</table>\n"
      ],
      "text/plain": [
       "<pandas.io.formats.style.Styler at 0x1c574755b50>"
      ]
     },
     "execution_count": 61,
     "metadata": {},
     "output_type": "execute_result"
    }
   ],
   "source": [
    "RandomForest = performance(RndF_RMSE_train, RndF_RMSE_test, RndF_R2_train, RndF_R2_test)\n",
    "RandomForest = RandomForest.style.set_caption(\"RandomForestRegressor\")\n",
    "RandomForest"
   ]
  },
  {
   "cell_type": "markdown",
   "id": "7f06fd28",
   "metadata": {},
   "source": [
    "#### 3.1.Grid Search Cross Validation\n",
    "&nbsp;<sup>[İçeriğe git.](#İçerik)</sup>"
   ]
  },
  {
   "cell_type": "markdown",
   "id": "0a69c0a4",
   "metadata": {},
   "source": [
    "RandomForestRegressor hiperparametrelerinden bazılarını belirliyorum."
   ]
  },
  {
   "cell_type": "code",
   "execution_count": 62,
   "id": "ebc31965",
   "metadata": {},
   "outputs": [],
   "source": [
    "#?RndF\n",
    "RndF_params = {\"max_features\" : [\"sqrt\", \"log2\", None],\n",
    "               \"n_estimators\": [100, 500, 800]}"
   ]
  },
  {
   "cell_type": "code",
   "execution_count": 63,
   "id": "69aae565",
   "metadata": {},
   "outputs": [],
   "source": [
    "RndFfCV = RandomForestRegressor(random_state=121521014)"
   ]
  },
  {
   "cell_type": "markdown",
   "id": "e78f7364",
   "metadata": {},
   "source": [
    "En iyi parameterleri bulmak için 10 foldluk bir GridSearch yapıyorum."
   ]
  },
  {
   "cell_type": "code",
   "execution_count": 71,
   "id": "3d9f28b4",
   "metadata": {},
   "outputs": [
    {
     "name": "stdout",
     "output_type": "stream",
     "text": [
      "Fitting 20 folds for each of 9 candidates, totalling 180 fits\n"
     ]
    }
   ],
   "source": [
    "RndF_CVGS = GridSearchCV(RndFfCV, RndF_params, \n",
    "                         cv=20,\n",
    "                         n_jobs=-1,\n",
    "                         verbose=2).fit(X_train_scaled, y_train_scaled)"
   ]
  },
  {
   "cell_type": "code",
   "execution_count": 72,
   "id": "909ddab6",
   "metadata": {},
   "outputs": [
    {
     "data": {
      "text/plain": [
       "{'max_features': 'sqrt', 'n_estimators': 100}"
      ]
     },
     "execution_count": 72,
     "metadata": {},
     "output_type": "execute_result"
    }
   ],
   "source": [
    "RndF_CVGS.best_params_"
   ]
  },
  {
   "cell_type": "markdown",
   "id": "3dcbc821",
   "metadata": {},
   "source": [
    "En iyi olarak seçilen parametrelerle yeniden model kuruyorum."
   ]
  },
  {
   "cell_type": "code",
   "execution_count": 73,
   "id": "8f1976d9",
   "metadata": {},
   "outputs": [],
   "source": [
    "RndF_CVGS_tuned = RandomForestRegressor(max_features = RndF_CVGS.best_params_[\"max_features\"],\n",
    "                                                       n_estimators = RndF_CVGS.best_params_[\"n_estimators\"]).fit(X_train_scaled, y_train_scaled)"
   ]
  },
  {
   "cell_type": "markdown",
   "id": "95919510",
   "metadata": {},
   "source": [
    "Tahminleri alıyorum."
   ]
  },
  {
   "cell_type": "code",
   "execution_count": 74,
   "id": "07682f48",
   "metadata": {},
   "outputs": [],
   "source": [
    "CVGS_pred_RndF_train = RndF_CVGS_tuned.predict(X_train_scaled)\n",
    "CVGS_pred_RndF_test = RndF_CVGS_tuned.predict(X_test_scaled)"
   ]
  },
  {
   "cell_type": "markdown",
   "id": "faee4af2",
   "metadata": {},
   "source": [
    "RMSE ve $R^2$ değerlerini buluyorum."
   ]
  },
  {
   "cell_type": "code",
   "execution_count": 75,
   "id": "383f978e",
   "metadata": {},
   "outputs": [],
   "source": [
    "CVGS_RndF_RMSE_train = RMSE(y_train_scaled, CVGS_pred_RndF_train)\n",
    "CVGS_RndF_RMSE_test = RMSE(y_test_scaled, CVGS_pred_RndF_test)\n",
    "CVGS_RndF_R2_train = r2_score(y_train_scaled, CVGS_pred_RndF_train)\n",
    "CVGS_RndF_R2_test = r2_score(y_test_scaled, CVGS_pred_RndF_test)"
   ]
  },
  {
   "cell_type": "markdown",
   "id": "8141d18c",
   "metadata": {},
   "source": [
    "Tune edilmiş modelin performansı çok az da olsa iyileştirdiğini görüyorum."
   ]
  },
  {
   "cell_type": "code",
   "execution_count": 76,
   "id": "6f849d58",
   "metadata": {},
   "outputs": [
    {
     "data": {
      "text/html": [
       "<style type=\"text/css\">\n",
       "</style>\n",
       "<table id=\"T_76578\">\n",
       "  <caption>RandomForestRegressor</caption>\n",
       "  <thead>\n",
       "    <tr>\n",
       "      <th class=\"blank level0\" >&nbsp;</th>\n",
       "      <th id=\"T_76578_level0_col0\" class=\"col_heading level0 col0\" >Train RMSE</th>\n",
       "      <th id=\"T_76578_level0_col1\" class=\"col_heading level0 col1\" >Test RMSE</th>\n",
       "      <th id=\"T_76578_level0_col2\" class=\"col_heading level0 col2\" >Train $R^2$</th>\n",
       "      <th id=\"T_76578_level0_col3\" class=\"col_heading level0 col3\" >Test $R^2$</th>\n",
       "    </tr>\n",
       "  </thead>\n",
       "  <tbody>\n",
       "    <tr>\n",
       "      <th id=\"T_76578_level0_row0\" class=\"row_heading level0 row0\" >0</th>\n",
       "      <td id=\"T_76578_row0_col0\" class=\"data row0 col0\" >0.068266</td>\n",
       "      <td id=\"T_76578_row0_col1\" class=\"data row0 col1\" >0.068727</td>\n",
       "      <td id=\"T_76578_row0_col2\" class=\"data row0 col2\" >0.739806</td>\n",
       "      <td id=\"T_76578_row0_col3\" class=\"data row0 col3\" >0.670302</td>\n",
       "    </tr>\n",
       "  </tbody>\n",
       "</table>\n"
      ],
      "text/plain": [
       "<pandas.io.formats.style.Styler at 0x1c574755b50>"
      ]
     },
     "execution_count": 76,
     "metadata": {},
     "output_type": "execute_result"
    }
   ],
   "source": [
    "RandomForest"
   ]
  },
  {
   "cell_type": "code",
   "execution_count": 77,
   "id": "8f0eea50",
   "metadata": {},
   "outputs": [
    {
     "data": {
      "text/html": [
       "<style type=\"text/css\">\n",
       "</style>\n",
       "<table id=\"T_b9349\">\n",
       "  <caption>CVGS Tuned RandomForestRegressor</caption>\n",
       "  <thead>\n",
       "    <tr>\n",
       "      <th class=\"blank level0\" >&nbsp;</th>\n",
       "      <th id=\"T_b9349_level0_col0\" class=\"col_heading level0 col0\" >Train RMSE</th>\n",
       "      <th id=\"T_b9349_level0_col1\" class=\"col_heading level0 col1\" >Test RMSE</th>\n",
       "      <th id=\"T_b9349_level0_col2\" class=\"col_heading level0 col2\" >Train $R^2$</th>\n",
       "      <th id=\"T_b9349_level0_col3\" class=\"col_heading level0 col3\" >Test $R^2$</th>\n",
       "    </tr>\n",
       "  </thead>\n",
       "  <tbody>\n",
       "    <tr>\n",
       "      <th id=\"T_b9349_level0_row0\" class=\"row_heading level0 row0\" >0</th>\n",
       "      <td id=\"T_b9349_row0_col0\" class=\"data row0 col0\" >0.068128</td>\n",
       "      <td id=\"T_b9349_row0_col1\" class=\"data row0 col1\" >0.068643</td>\n",
       "      <td id=\"T_b9349_row0_col2\" class=\"data row0 col2\" >0.740860</td>\n",
       "      <td id=\"T_b9349_row0_col3\" class=\"data row0 col3\" >0.671108</td>\n",
       "    </tr>\n",
       "  </tbody>\n",
       "</table>\n"
      ],
      "text/plain": [
       "<pandas.io.formats.style.Styler at 0x1c576199430>"
      ]
     },
     "execution_count": 77,
     "metadata": {},
     "output_type": "execute_result"
    }
   ],
   "source": [
    "CVGS_RndF = performance(CVGS_RndF_RMSE_train, CVGS_RndF_RMSE_test, CVGS_RndF_R2_train, CVGS_RndF_R2_test)\n",
    "CVGS_RndF = CVGS_RndF.style.set_caption(\"CVGS Tuned RandomForestRegressor\")\n",
    "CVGS_RndF"
   ]
  },
  {
   "cell_type": "markdown",
   "id": "bc50a32a",
   "metadata": {},
   "source": [
    "# 4.Gradient Boosting Regressor\n",
    "&nbsp;<sup>[İçeriğe git.](#İçerik)</sup>"
   ]
  },
  {
   "cell_type": "code",
   "execution_count": 78,
   "id": "4975a366",
   "metadata": {},
   "outputs": [],
   "source": [
    "gBR = GradientBoostingRegressor(random_state=121521014).fit(X_train_scaled, y_train_scaled)"
   ]
  },
  {
   "cell_type": "markdown",
   "id": "b2e241c9",
   "metadata": {},
   "source": [
    "Gradient Boosting modeli için değişkenlerin önemliliklerine bakıyorum. Random Forest'la oldukça benzer."
   ]
  },
  {
   "cell_type": "code",
   "execution_count": 79,
   "id": "e02526b3",
   "metadata": {},
   "outputs": [
    {
     "data": {
      "image/png": "[encoded data removed]",
      "text/plain": [
       "<Figure size 640x480 with 1 Axes>"
      ]
     },
     "metadata": {},
     "output_type": "display_data"
    }
   ],
   "source": [
    "gBR_features = feature_importances(\"RandomForestRegressor\", gBR, X_train_scaled)"
   ]
  },
  {
   "cell_type": "markdown",
   "id": "ae6e5467",
   "metadata": {},
   "source": [
    "Tahminleri alıyorum."
   ]
  },
  {
   "cell_type": "code",
   "execution_count": 80,
   "id": "be7b36b4",
   "metadata": {},
   "outputs": [],
   "source": [
    "gBR_y_pred_train = gBR.predict(X_train_scaled)\n",
    "gBR_y_pred_test = gBR.predict(X_test_scaled)"
   ]
  },
  {
   "cell_type": "markdown",
   "id": "e5c80342",
   "metadata": {},
   "source": [
    "RMSE ve $R^2$ değerlerini buluyorum."
   ]
  },
  {
   "cell_type": "code",
   "execution_count": 81,
   "id": "6d7dd521",
   "metadata": {},
   "outputs": [],
   "source": [
    "gBR_RMSE_train = RMSE(y_train_scaled, gBR_y_pred_train)\n",
    "gBR_RMSE_test = RMSE(y_test_scaled,gBR_y_pred_test)\n",
    "gBR_R2_train = r2_score(y_train_scaled, gBR_y_pred_train)\n",
    "gBR_R2_test = r2_score(y_test_scaled, gBR_y_pred_test)"
   ]
  },
  {
   "cell_type": "markdown",
   "id": "3e9a1a82",
   "metadata": {},
   "source": [
    "Train seti performansı, Test setinden daha iyi fakat büyük bir fark yok. "
   ]
  },
  {
   "cell_type": "code",
   "execution_count": 82,
   "id": "e2a24c86",
   "metadata": {},
   "outputs": [
    {
     "data": {
      "text/html": [
       "<style type=\"text/css\">\n",
       "</style>\n",
       "<table id=\"T_19297\">\n",
       "  <caption>GradientBoostingRegressor</caption>\n",
       "  <thead>\n",
       "    <tr>\n",
       "      <th class=\"blank level0\" >&nbsp;</th>\n",
       "      <th id=\"T_19297_level0_col0\" class=\"col_heading level0 col0\" >Train RMSE</th>\n",
       "      <th id=\"T_19297_level0_col1\" class=\"col_heading level0 col1\" >Test RMSE</th>\n",
       "      <th id=\"T_19297_level0_col2\" class=\"col_heading level0 col2\" >Train $R^2$</th>\n",
       "      <th id=\"T_19297_level0_col3\" class=\"col_heading level0 col3\" >Test $R^2$</th>\n",
       "    </tr>\n",
       "  </thead>\n",
       "  <tbody>\n",
       "    <tr>\n",
       "      <th id=\"T_19297_level0_row0\" class=\"row_heading level0 row0\" >0</th>\n",
       "      <td id=\"T_19297_row0_col0\" class=\"data row0 col0\" >0.071933</td>\n",
       "      <td id=\"T_19297_row0_col1\" class=\"data row0 col1\" >0.065426</td>\n",
       "      <td id=\"T_19297_row0_col2\" class=\"data row0 col2\" >0.711104</td>\n",
       "      <td id=\"T_19297_row0_col3\" class=\"data row0 col3\" >0.701212</td>\n",
       "    </tr>\n",
       "  </tbody>\n",
       "</table>\n"
      ],
      "text/plain": [
       "<pandas.io.formats.style.Styler at 0x1c57619acc0>"
      ]
     },
     "execution_count": 82,
     "metadata": {},
     "output_type": "execute_result"
    }
   ],
   "source": [
    "GradientBoosting = performance(gBR_RMSE_train, gBR_RMSE_test, gBR_R2_train, gBR_R2_test)\n",
    "GradientBoosting = GradientBoosting.style.set_caption(\"GradientBoostingRegressor\")\n",
    "GradientBoosting"
   ]
  },
  {
   "cell_type": "markdown",
   "id": "c297744d",
   "metadata": {},
   "source": [
    "#### 4.1.Grid Search Cross Validation\n",
    "&nbsp;<sup>[İçeriğe git.](#İçerik)</sup>"
   ]
  },
  {
   "cell_type": "markdown",
   "id": "520531ef",
   "metadata": {},
   "source": [
    "GradientBoostingRegressor hiperparametrelerinden bazılarını belirliyorum."
   ]
  },
  {
   "cell_type": "code",
   "execution_count": 83,
   "id": "63e00078",
   "metadata": {},
   "outputs": [],
   "source": [
    "#?gBR\n",
    "gBR_params = {\"learning_rate\": [0.001, 0.1, 0.2],\n",
    "              \"max_depth\": [3, 4, 5],\n",
    "              \"subsample\": [0.5, 0.8, 1]}"
   ]
  },
  {
   "cell_type": "code",
   "execution_count": 84,
   "id": "f977b23e",
   "metadata": {},
   "outputs": [],
   "source": [
    "gBRfCV = GradientBoostingRegressor(random_state=121521014)"
   ]
  },
  {
   "cell_type": "markdown",
   "id": "7ec956f3",
   "metadata": {},
   "source": [
    "En iyi parameterleri bulmak için 10 foldluk bir GridSearch yapıyorum."
   ]
  },
  {
   "cell_type": "code",
   "execution_count": 85,
   "id": "bd00315d",
   "metadata": {},
   "outputs": [
    {
     "name": "stdout",
     "output_type": "stream",
     "text": [
      "Fitting 10 folds for each of 27 candidates, totalling 270 fits\n"
     ]
    }
   ],
   "source": [
    "gBR_CVGS = GridSearchCV(gBRfCV, gBR_params, \n",
    "                        cv=10,\n",
    "                        n_jobs=-1,\n",
    "                        verbose=2).fit(X_train_scaled, y_train_scaled)"
   ]
  },
  {
   "cell_type": "code",
   "execution_count": 86,
   "id": "cfff97a3",
   "metadata": {},
   "outputs": [
    {
     "data": {
      "text/plain": [
       "{'learning_rate': 0.1, 'max_depth': 4, 'subsample': 1}"
      ]
     },
     "execution_count": 86,
     "metadata": {},
     "output_type": "execute_result"
    }
   ],
   "source": [
    "gBR_CVGS.best_params_"
   ]
  },
  {
   "cell_type": "markdown",
   "id": "1b39362a",
   "metadata": {},
   "source": [
    "En iyi olarak seçilen parametrelerle yeniden model kuruyorum."
   ]
  },
  {
   "cell_type": "code",
   "execution_count": 88,
   "id": "e23af02c",
   "metadata": {},
   "outputs": [],
   "source": [
    "gBR_CVGS_tuned = GradientBoostingRegressor(learning_rate = gBR_CVGS.best_params_[\"learning_rate\"],\n",
    "                                           max_depth = gBR_CVGS.best_params_[\"max_depth\"],\n",
    "                                           subsample = gBR_CVGS.best_params_[\"subsample\"]).fit(X_train_scaled, y_train_scaled)"
   ]
  },
  {
   "cell_type": "markdown",
   "id": "404c57c1",
   "metadata": {},
   "source": [
    "Tahminleri alıyorum."
   ]
  },
  {
   "cell_type": "code",
   "execution_count": 89,
   "id": "344297ec",
   "metadata": {},
   "outputs": [],
   "source": [
    "CVGS_pred_gBR_train = gBR_CVGS_tuned.predict(X_train_scaled)\n",
    "CVGS_pred_gBR_test = gBR_CVGS_tuned.predict(X_test_scaled)"
   ]
  },
  {
   "cell_type": "markdown",
   "id": "0c08dece",
   "metadata": {},
   "source": [
    "RMSE ve $R^2$ değerlerini buluyorum."
   ]
  },
  {
   "cell_type": "code",
   "execution_count": 90,
   "id": "6b88f3ac",
   "metadata": {},
   "outputs": [],
   "source": [
    "CVGS_gBR_RMSE_train = RMSE(y_train_scaled, CVGS_pred_gBR_train)\n",
    "CVGS_gBR_RMSE_test = RMSE(y_test_scaled, CVGS_pred_gBR_test)\n",
    "CVGS_gBR_R2_train = r2_score(y_train_scaled, CVGS_pred_gBR_train)\n",
    "CVGS_gBR_R2_test = r2_score(y_test_scaled, CVGS_pred_gBR_test)"
   ]
  },
  {
   "cell_type": "markdown",
   "id": "6aab71b5",
   "metadata": {},
   "source": [
    "Tune edilmiş modelin performansı çok az da olsa iyileştirdiğini görüyorum."
   ]
  },
  {
   "cell_type": "code",
   "execution_count": 91,
   "id": "810ae889",
   "metadata": {},
   "outputs": [
    {
     "data": {
      "text/html": [
       "<style type=\"text/css\">\n",
       "</style>\n",
       "<table id=\"T_19297\">\n",
       "  <caption>GradientBoostingRegressor</caption>\n",
       "  <thead>\n",
       "    <tr>\n",
       "      <th class=\"blank level0\" >&nbsp;</th>\n",
       "      <th id=\"T_19297_level0_col0\" class=\"col_heading level0 col0\" >Train RMSE</th>\n",
       "      <th id=\"T_19297_level0_col1\" class=\"col_heading level0 col1\" >Test RMSE</th>\n",
       "      <th id=\"T_19297_level0_col2\" class=\"col_heading level0 col2\" >Train $R^2$</th>\n",
       "      <th id=\"T_19297_level0_col3\" class=\"col_heading level0 col3\" >Test $R^2$</th>\n",
       "    </tr>\n",
       "  </thead>\n",
       "  <tbody>\n",
       "    <tr>\n",
       "      <th id=\"T_19297_level0_row0\" class=\"row_heading level0 row0\" >0</th>\n",
       "      <td id=\"T_19297_row0_col0\" class=\"data row0 col0\" >0.071933</td>\n",
       "      <td id=\"T_19297_row0_col1\" class=\"data row0 col1\" >0.065426</td>\n",
       "      <td id=\"T_19297_row0_col2\" class=\"data row0 col2\" >0.711104</td>\n",
       "      <td id=\"T_19297_row0_col3\" class=\"data row0 col3\" >0.701212</td>\n",
       "    </tr>\n",
       "  </tbody>\n",
       "</table>\n"
      ],
      "text/plain": [
       "<pandas.io.formats.style.Styler at 0x1c57619acc0>"
      ]
     },
     "execution_count": 91,
     "metadata": {},
     "output_type": "execute_result"
    }
   ],
   "source": [
    "GradientBoosting"
   ]
  },
  {
   "cell_type": "code",
   "execution_count": 92,
   "id": "8edc78c5",
   "metadata": {},
   "outputs": [
    {
     "data": {
      "text/html": [
       "<style type=\"text/css\">\n",
       "</style>\n",
       "<table id=\"T_d8748\">\n",
       "  <caption>CVGS Tuned GradientBoostingRegressor</caption>\n",
       "  <thead>\n",
       "    <tr>\n",
       "      <th class=\"blank level0\" >&nbsp;</th>\n",
       "      <th id=\"T_d8748_level0_col0\" class=\"col_heading level0 col0\" >Train RMSE</th>\n",
       "      <th id=\"T_d8748_level0_col1\" class=\"col_heading level0 col1\" >Test RMSE</th>\n",
       "      <th id=\"T_d8748_level0_col2\" class=\"col_heading level0 col2\" >Train $R^2$</th>\n",
       "      <th id=\"T_d8748_level0_col3\" class=\"col_heading level0 col3\" >Test $R^2$</th>\n",
       "    </tr>\n",
       "  </thead>\n",
       "  <tbody>\n",
       "    <tr>\n",
       "      <th id=\"T_d8748_level0_row0\" class=\"row_heading level0 row0\" >0</th>\n",
       "      <td id=\"T_d8748_row0_col0\" class=\"data row0 col0\" >0.069940</td>\n",
       "      <td id=\"T_d8748_row0_col1\" class=\"data row0 col1\" >0.065331</td>\n",
       "      <td id=\"T_d8748_row0_col2\" class=\"data row0 col2\" >0.726888</td>\n",
       "      <td id=\"T_d8748_row0_col3\" class=\"data row0 col3\" >0.702079</td>\n",
       "    </tr>\n",
       "  </tbody>\n",
       "</table>\n"
      ],
      "text/plain": [
       "<pandas.io.formats.style.Styler at 0x1c5761c7c80>"
      ]
     },
     "execution_count": 92,
     "metadata": {},
     "output_type": "execute_result"
    }
   ],
   "source": [
    "CVGS_gBR = performance(CVGS_gBR_RMSE_train, CVGS_gBR_RMSE_test, CVGS_gBR_R2_train, CVGS_gBR_R2_test)\n",
    "CVGS_gBR = CVGS_gBR.style.set_caption(\"CVGS Tuned GradientBoostingRegressor\")\n",
    "CVGS_gBR"
   ]
  },
  {
   "cell_type": "markdown",
   "id": "ffc83b31",
   "metadata": {},
   "source": [
    "# 5.Extreme Gradient Boosting Regressor\n",
    "&ensp;<sup>[İçeriğe git.](#İçerik)</sup>"
   ]
  },
  {
   "cell_type": "code",
   "execution_count": 93,
   "id": "ab877904",
   "metadata": {},
   "outputs": [],
   "source": [
    "xgBR = XGBRegressor(random_state=121521014).fit(X_train_scaled, y_train_scaled)"
   ]
  },
  {
   "cell_type": "markdown",
   "id": "0221335f",
   "metadata": {},
   "source": [
    "Tahminleri alıyorum."
   ]
  },
  {
   "cell_type": "code",
   "execution_count": 94,
   "id": "dede9189",
   "metadata": {},
   "outputs": [],
   "source": [
    "xgBR_y_pred_train = xgBR.predict(X_train_scaled)\n",
    "xgBR_y_pred_test = xgBR.predict(X_test_scaled)"
   ]
  },
  {
   "cell_type": "markdown",
   "id": "42a09ba0",
   "metadata": {},
   "source": [
    "RMSE ve $R^2$ değerlerini buluyorum."
   ]
  },
  {
   "cell_type": "code",
   "execution_count": 95,
   "id": "a251c0d0",
   "metadata": {},
   "outputs": [],
   "source": [
    "xgBR_RMSE_train = RMSE(y_train_scaled, xgBR_y_pred_train)\n",
    "xgBR_RMSE_test = RMSE(y_test_scaled, xgBR_y_pred_test)\n",
    "xgBR_R2_train = r2_score(y_train_scaled, xgBR_y_pred_train)\n",
    "xgBR_R2_test = r2_score(y_test_scaled, xgBR_y_pred_test)"
   ]
  },
  {
   "cell_type": "markdown",
   "id": "991d166b",
   "metadata": {},
   "source": [
    "Train seti performansı, Test setinden daha iyi fakat çok büyük bir fark yok."
   ]
  },
  {
   "cell_type": "code",
   "execution_count": 96,
   "id": "ee3fa410",
   "metadata": {},
   "outputs": [
    {
     "data": {
      "text/html": [
       "<style type=\"text/css\">\n",
       "</style>\n",
       "<table id=\"T_e5068\">\n",
       "  <caption>XGBRegressor</caption>\n",
       "  <thead>\n",
       "    <tr>\n",
       "      <th class=\"blank level0\" >&nbsp;</th>\n",
       "      <th id=\"T_e5068_level0_col0\" class=\"col_heading level0 col0\" >Train RMSE</th>\n",
       "      <th id=\"T_e5068_level0_col1\" class=\"col_heading level0 col1\" >Test RMSE</th>\n",
       "      <th id=\"T_e5068_level0_col2\" class=\"col_heading level0 col2\" >Train $R^2$</th>\n",
       "      <th id=\"T_e5068_level0_col3\" class=\"col_heading level0 col3\" >Test $R^2$</th>\n",
       "    </tr>\n",
       "  </thead>\n",
       "  <tbody>\n",
       "    <tr>\n",
       "      <th id=\"T_e5068_level0_row0\" class=\"row_heading level0 row0\" >0</th>\n",
       "      <td id=\"T_e5068_row0_col0\" class=\"data row0 col0\" >0.067787</td>\n",
       "      <td id=\"T_e5068_row0_col1\" class=\"data row0 col1\" >0.068296</td>\n",
       "      <td id=\"T_e5068_row0_col2\" class=\"data row0 col2\" >0.743445</td>\n",
       "      <td id=\"T_e5068_row0_col3\" class=\"data row0 col3\" >0.674426</td>\n",
       "    </tr>\n",
       "  </tbody>\n",
       "</table>\n"
      ],
      "text/plain": [
       "<pandas.io.formats.style.Styler at 0x1c57475c9b0>"
      ]
     },
     "execution_count": 96,
     "metadata": {},
     "output_type": "execute_result"
    }
   ],
   "source": [
    "XGB = performance(xgBR_RMSE_train, xgBR_RMSE_test, xgBR_R2_train, xgBR_R2_test)\n",
    "XGB = XGB.style.set_caption(\"XGBRegressor\")\n",
    "XGB"
   ]
  },
  {
   "cell_type": "markdown",
   "id": "65825a23",
   "metadata": {},
   "source": [
    "#### 5.1.Grid Search Cross Validation\n",
    "&nbsp;<sup>[İçeriğe git.](#İçerik)</sup>"
   ]
  },
  {
   "cell_type": "markdown",
   "id": "6e523830",
   "metadata": {},
   "source": [
    "XGBRegressor hiperparametrelerinden bazılarını belirliyorum."
   ]
  },
  {
   "cell_type": "code",
   "execution_count": 97,
   "id": "3a30508d",
   "metadata": {},
   "outputs": [],
   "source": [
    "#?xgBR\n",
    "xgBR_params = {\"learning_rate\": [0.01, 0.1, 0.2],\n",
    "               \"max_depth\": [3, 4, 5],\n",
    "               \"subsample\": [0.5, 0.8, 1]}"
   ]
  },
  {
   "cell_type": "code",
   "execution_count": 98,
   "id": "288c2c3e",
   "metadata": {},
   "outputs": [],
   "source": [
    "xgBRfCV = XGBRegressor(random_state=121521014)"
   ]
  },
  {
   "cell_type": "markdown",
   "id": "b552ba75",
   "metadata": {},
   "source": [
    "En iyi parameterleri bulmak için 10 foldluk bir GridSearch yapıyorum."
   ]
  },
  {
   "cell_type": "code",
   "execution_count": 123,
   "id": "b2974d4d",
   "metadata": {},
   "outputs": [
    {
     "name": "stdout",
     "output_type": "stream",
     "text": [
      "Fitting 10 folds for each of 27 candidates, totalling 270 fits\n"
     ]
    }
   ],
   "source": [
    "xgBR_CVGS = GridSearchCV(xgBRfCV, xgBR_params, \n",
    "                        cv=10,\n",
    "                        n_jobs=-1,\n",
    "                        verbose=2).fit(X_train_scaled, y_train_scaled)"
   ]
  },
  {
   "cell_type": "code",
   "execution_count": 124,
   "id": "0fbaeddf",
   "metadata": {},
   "outputs": [
    {
     "data": {
      "text/plain": [
       "{'learning_rate': 0.1, 'max_depth': 4, 'subsample': 1}"
      ]
     },
     "execution_count": 124,
     "metadata": {},
     "output_type": "execute_result"
    }
   ],
   "source": [
    "xgBR_CVGS.best_params_"
   ]
  },
  {
   "cell_type": "markdown",
   "id": "58765fc5",
   "metadata": {},
   "source": [
    "En iyi olarak seçilen parametrelerle yeniden model kuruyorum."
   ]
  },
  {
   "cell_type": "code",
   "execution_count": 125,
   "id": "c5e3b032",
   "metadata": {},
   "outputs": [],
   "source": [
    "xgBR_CVGS_tuned = XGBRegressor(learning_rate = xgBR_CVGS.best_params_[\"learning_rate\"],\n",
    "                               max_depth = xgBR_CVGS.best_params_[\"max_depth\"],\n",
    "                               subsample = xgBR_CVGS.best_params_[\"subsample\"]).fit(X_train_scaled, y_train_scaled)"
   ]
  },
  {
   "cell_type": "markdown",
   "id": "dd7abee4",
   "metadata": {},
   "source": [
    "Tahminleri alıyorum."
   ]
  },
  {
   "cell_type": "code",
   "execution_count": 126,
   "id": "6117dc17",
   "metadata": {},
   "outputs": [],
   "source": [
    "CVGS_pred_xgBR_train = xgBR_CVGS_tuned.predict(X_train_scaled)\n",
    "CVGS_pred_xgBR_test = xgBR_CVGS_tuned.predict(X_test_scaled)"
   ]
  },
  {
   "cell_type": "markdown",
   "id": "643c7187",
   "metadata": {},
   "source": [
    "RMSE ve $R^2$ değerlerini buluyorum."
   ]
  },
  {
   "cell_type": "code",
   "execution_count": 127,
   "id": "8645baf8",
   "metadata": {},
   "outputs": [],
   "source": [
    "CVGS_xgBR_RMSE_train = RMSE(y_train_scaled, CVGS_pred_xgBR_train)\n",
    "CVGS_xgBR_RMSE_test = RMSE(y_test_scaled, CVGS_pred_xgBR_test)\n",
    "CVGS_xgBR_R2_train = r2_score(y_train_scaled, CVGS_pred_xgBR_train)\n",
    "CVGS_xgBR_R2_test = r2_score(y_test_scaled, CVGS_pred_xgBR_test)"
   ]
  },
  {
   "cell_type": "markdown",
   "id": "ae40d226",
   "metadata": {},
   "source": [
    "Train seti performansı azalırken, Test seti performansı arttı."
   ]
  },
  {
   "cell_type": "code",
   "execution_count": 128,
   "id": "3d351620",
   "metadata": {},
   "outputs": [
    {
     "data": {
      "text/html": [
       "<style type=\"text/css\">\n",
       "</style>\n",
       "<table id=\"T_e5068\">\n",
       "  <caption>XGBRegressor</caption>\n",
       "  <thead>\n",
       "    <tr>\n",
       "      <th class=\"blank level0\" >&nbsp;</th>\n",
       "      <th id=\"T_e5068_level0_col0\" class=\"col_heading level0 col0\" >Train RMSE</th>\n",
       "      <th id=\"T_e5068_level0_col1\" class=\"col_heading level0 col1\" >Test RMSE</th>\n",
       "      <th id=\"T_e5068_level0_col2\" class=\"col_heading level0 col2\" >Train $R^2$</th>\n",
       "      <th id=\"T_e5068_level0_col3\" class=\"col_heading level0 col3\" >Test $R^2$</th>\n",
       "    </tr>\n",
       "  </thead>\n",
       "  <tbody>\n",
       "    <tr>\n",
       "      <th id=\"T_e5068_level0_row0\" class=\"row_heading level0 row0\" >0</th>\n",
       "      <td id=\"T_e5068_row0_col0\" class=\"data row0 col0\" >0.067787</td>\n",
       "      <td id=\"T_e5068_row0_col1\" class=\"data row0 col1\" >0.068296</td>\n",
       "      <td id=\"T_e5068_row0_col2\" class=\"data row0 col2\" >0.743445</td>\n",
       "      <td id=\"T_e5068_row0_col3\" class=\"data row0 col3\" >0.674426</td>\n",
       "    </tr>\n",
       "  </tbody>\n",
       "</table>\n"
      ],
      "text/plain": [
       "<pandas.io.formats.style.Styler at 0x1c57475c9b0>"
      ]
     },
     "execution_count": 128,
     "metadata": {},
     "output_type": "execute_result"
    }
   ],
   "source": [
    "XGB"
   ]
  },
  {
   "cell_type": "code",
   "execution_count": 129,
   "id": "24b9eef0",
   "metadata": {},
   "outputs": [
    {
     "data": {
      "text/html": [
       "<style type=\"text/css\">\n",
       "</style>\n",
       "<table id=\"T_a4bd8\">\n",
       "  <caption>CVGS Tuned XGBRegressor</caption>\n",
       "  <thead>\n",
       "    <tr>\n",
       "      <th class=\"blank level0\" >&nbsp;</th>\n",
       "      <th id=\"T_a4bd8_level0_col0\" class=\"col_heading level0 col0\" >Train RMSE</th>\n",
       "      <th id=\"T_a4bd8_level0_col1\" class=\"col_heading level0 col1\" >Test RMSE</th>\n",
       "      <th id=\"T_a4bd8_level0_col2\" class=\"col_heading level0 col2\" >Train $R^2$</th>\n",
       "      <th id=\"T_a4bd8_level0_col3\" class=\"col_heading level0 col3\" >Test $R^2$</th>\n",
       "    </tr>\n",
       "  </thead>\n",
       "  <tbody>\n",
       "    <tr>\n",
       "      <th id=\"T_a4bd8_level0_row0\" class=\"row_heading level0 row0\" >0</th>\n",
       "      <td id=\"T_a4bd8_row0_col0\" class=\"data row0 col0\" >0.070332</td>\n",
       "      <td id=\"T_a4bd8_row0_col1\" class=\"data row0 col1\" >0.065208</td>\n",
       "      <td id=\"T_a4bd8_row0_col2\" class=\"data row0 col2\" >0.723822</td>\n",
       "      <td id=\"T_a4bd8_row0_col3\" class=\"data row0 col3\" >0.703206</td>\n",
       "    </tr>\n",
       "  </tbody>\n",
       "</table>\n"
      ],
      "text/plain": [
       "<pandas.io.formats.style.Styler at 0x1c5761c6270>"
      ]
     },
     "execution_count": 129,
     "metadata": {},
     "output_type": "execute_result"
    }
   ],
   "source": [
    "CVGS_xgBR = performance(CVGS_xgBR_RMSE_train, CVGS_xgBR_RMSE_test, CVGS_xgBR_R2_train, CVGS_xgBR_R2_test)\n",
    "CVGS_xgBR = CVGS_xgBR.style.set_caption(\"CVGS Tuned XGBRegressor\")\n",
    "CVGS_xgBR"
   ]
  },
  {
   "cell_type": "markdown",
   "id": "dae075f6",
   "metadata": {},
   "source": [
    "Tune edilmiş Extreme Gradient Boosting Regressor ve çok yakın bir performansa sahip tune edilmiş Gradient Boosting Regressor modellerinin en iyi performansa sahip olduğunu söyleyebilirim.  \n",
    "İki modelin de test seti için ilişkiyi yaklaşık %70 kadar açıklayabildiğini görüyorum."
   ]
  },
  {
   "cell_type": "markdown",
   "id": "f815e629",
   "metadata": {},
   "source": [
    "-------------------------------------------------------------------------------------------------------"
   ]
  },
  {
   "cell_type": "markdown",
   "id": "954c48a1",
   "metadata": {},
   "source": [
    "1."
   ]
  },
  {
   "cell_type": "code",
   "execution_count": 106,
   "id": "5c1d016a",
   "metadata": {},
   "outputs": [
    {
     "data": {
      "text/html": [
       "<style type=\"text/css\">\n",
       "</style>\n",
       "<table id=\"T_01056\">\n",
       "  <caption>MLPRegressor</caption>\n",
       "  <thead>\n",
       "    <tr>\n",
       "      <th class=\"blank level0\" >&nbsp;</th>\n",
       "      <th id=\"T_01056_level0_col0\" class=\"col_heading level0 col0\" >Train RMSE</th>\n",
       "      <th id=\"T_01056_level0_col1\" class=\"col_heading level0 col1\" >Test RMSE</th>\n",
       "      <th id=\"T_01056_level0_col2\" class=\"col_heading level0 col2\" >Train $R^2$</th>\n",
       "      <th id=\"T_01056_level0_col3\" class=\"col_heading level0 col3\" >Test $R^2$</th>\n",
       "    </tr>\n",
       "  </thead>\n",
       "  <tbody>\n",
       "    <tr>\n",
       "      <th id=\"T_01056_level0_row0\" class=\"row_heading level0 row0\" >0</th>\n",
       "      <td id=\"T_01056_row0_col0\" class=\"data row0 col0\" >0.081546</td>\n",
       "      <td id=\"T_01056_row0_col1\" class=\"data row0 col1\" >0.071413</td>\n",
       "      <td id=\"T_01056_row0_col2\" class=\"data row0 col2\" >0.628732</td>\n",
       "      <td id=\"T_01056_row0_col3\" class=\"data row0 col3\" >0.644027</td>\n",
       "    </tr>\n",
       "  </tbody>\n",
       "</table>\n"
      ],
      "text/plain": [
       "<pandas.io.formats.style.Styler at 0x1c57368d3a0>"
      ]
     },
     "execution_count": 106,
     "metadata": {},
     "output_type": "execute_result"
    }
   ],
   "source": [
    "MLP"
   ]
  },
  {
   "cell_type": "code",
   "execution_count": 107,
   "id": "713b7fe0",
   "metadata": {},
   "outputs": [
    {
     "data": {
      "text/html": [
       "<style type=\"text/css\">\n",
       "</style>\n",
       "<table id=\"T_cb4f9\">\n",
       "  <caption>CVGS Tuned MLPRegressor</caption>\n",
       "  <thead>\n",
       "    <tr>\n",
       "      <th class=\"blank level0\" >&nbsp;</th>\n",
       "      <th id=\"T_cb4f9_level0_col0\" class=\"col_heading level0 col0\" >Train RMSE</th>\n",
       "      <th id=\"T_cb4f9_level0_col1\" class=\"col_heading level0 col1\" >Test RMSE</th>\n",
       "      <th id=\"T_cb4f9_level0_col2\" class=\"col_heading level0 col2\" >Train $R^2$</th>\n",
       "      <th id=\"T_cb4f9_level0_col3\" class=\"col_heading level0 col3\" >Test $R^2$</th>\n",
       "    </tr>\n",
       "  </thead>\n",
       "  <tbody>\n",
       "    <tr>\n",
       "      <th id=\"T_cb4f9_level0_row0\" class=\"row_heading level0 row0\" >0</th>\n",
       "      <td id=\"T_cb4f9_row0_col0\" class=\"data row0 col0\" >0.080478</td>\n",
       "      <td id=\"T_cb4f9_row0_col1\" class=\"data row0 col1\" >0.070140</td>\n",
       "      <td id=\"T_cb4f9_row0_col2\" class=\"data row0 col2\" >0.638392</td>\n",
       "      <td id=\"T_cb4f9_row0_col3\" class=\"data row0 col3\" >0.656612</td>\n",
       "    </tr>\n",
       "  </tbody>\n",
       "</table>\n"
      ],
      "text/plain": [
       "<pandas.io.formats.style.Styler at 0x1c572ff3f50>"
      ]
     },
     "execution_count": 107,
     "metadata": {},
     "output_type": "execute_result"
    }
   ],
   "source": [
    "CVGS_MLP"
   ]
  },
  {
   "cell_type": "markdown",
   "id": "97c97080",
   "metadata": {},
   "source": [
    "2."
   ]
  },
  {
   "cell_type": "code",
   "execution_count": 108,
   "id": "af659fe9",
   "metadata": {},
   "outputs": [
    {
     "data": {
      "text/html": [
       "<style type=\"text/css\">\n",
       "</style>\n",
       "<table id=\"T_fbb39\">\n",
       "  <caption>KNeighborsRegressor</caption>\n",
       "  <thead>\n",
       "    <tr>\n",
       "      <th class=\"blank level0\" >&nbsp;</th>\n",
       "      <th id=\"T_fbb39_level0_col0\" class=\"col_heading level0 col0\" >Train RMSE</th>\n",
       "      <th id=\"T_fbb39_level0_col1\" class=\"col_heading level0 col1\" >Test RMSE</th>\n",
       "      <th id=\"T_fbb39_level0_col2\" class=\"col_heading level0 col2\" >Train $R^2$</th>\n",
       "      <th id=\"T_fbb39_level0_col3\" class=\"col_heading level0 col3\" >Test $R^2$</th>\n",
       "    </tr>\n",
       "  </thead>\n",
       "  <tbody>\n",
       "    <tr>\n",
       "      <th id=\"T_fbb39_level0_row0\" class=\"row_heading level0 row0\" >0</th>\n",
       "      <td id=\"T_fbb39_row0_col0\" class=\"data row0 col0\" >0.076265</td>\n",
       "      <td id=\"T_fbb39_row0_col1\" class=\"data row0 col1\" >0.070936</td>\n",
       "      <td id=\"T_fbb39_row0_col2\" class=\"data row0 col2\" >0.675258</td>\n",
       "      <td id=\"T_fbb39_row0_col3\" class=\"data row0 col3\" >0.648775</td>\n",
       "    </tr>\n",
       "  </tbody>\n",
       "</table>\n"
      ],
      "text/plain": [
       "<pandas.io.formats.style.Styler at 0x1c573664230>"
      ]
     },
     "execution_count": 108,
     "metadata": {},
     "output_type": "execute_result"
    }
   ],
   "source": [
    "KNeighbors"
   ]
  },
  {
   "cell_type": "code",
   "execution_count": 109,
   "id": "91a4c6d1",
   "metadata": {},
   "outputs": [
    {
     "data": {
      "text/html": [
       "<style type=\"text/css\">\n",
       "</style>\n",
       "<table id=\"T_3cce5\">\n",
       "  <caption>CVGS Tuned KNeighborsRegressor</caption>\n",
       "  <thead>\n",
       "    <tr>\n",
       "      <th class=\"blank level0\" >&nbsp;</th>\n",
       "      <th id=\"T_3cce5_level0_col0\" class=\"col_heading level0 col0\" >Train RMSE</th>\n",
       "      <th id=\"T_3cce5_level0_col1\" class=\"col_heading level0 col1\" >Test RMSE</th>\n",
       "      <th id=\"T_3cce5_level0_col2\" class=\"col_heading level0 col2\" >Train $R^2$</th>\n",
       "      <th id=\"T_3cce5_level0_col3\" class=\"col_heading level0 col3\" >Test $R^2$</th>\n",
       "    </tr>\n",
       "  </thead>\n",
       "  <tbody>\n",
       "    <tr>\n",
       "      <th id=\"T_3cce5_level0_row0\" class=\"row_heading level0 row0\" >0</th>\n",
       "      <td id=\"T_3cce5_row0_col0\" class=\"data row0 col0\" >0.080478</td>\n",
       "      <td id=\"T_3cce5_row0_col1\" class=\"data row0 col1\" >0.070140</td>\n",
       "      <td id=\"T_3cce5_row0_col2\" class=\"data row0 col2\" >0.638392</td>\n",
       "      <td id=\"T_3cce5_row0_col3\" class=\"data row0 col3\" >0.656612</td>\n",
       "    </tr>\n",
       "  </tbody>\n",
       "</table>\n"
      ],
      "text/plain": [
       "<pandas.io.formats.style.Styler at 0x1c573666150>"
      ]
     },
     "execution_count": 109,
     "metadata": {},
     "output_type": "execute_result"
    }
   ],
   "source": [
    "CVGS_KNN"
   ]
  },
  {
   "cell_type": "markdown",
   "id": "7a59d44c",
   "metadata": {},
   "source": [
    "3."
   ]
  },
  {
   "cell_type": "code",
   "execution_count": 110,
   "id": "3bc6afcb",
   "metadata": {},
   "outputs": [
    {
     "data": {
      "text/html": [
       "<style type=\"text/css\">\n",
       "</style>\n",
       "<table id=\"T_76578\">\n",
       "  <caption>RandomForestRegressor</caption>\n",
       "  <thead>\n",
       "    <tr>\n",
       "      <th class=\"blank level0\" >&nbsp;</th>\n",
       "      <th id=\"T_76578_level0_col0\" class=\"col_heading level0 col0\" >Train RMSE</th>\n",
       "      <th id=\"T_76578_level0_col1\" class=\"col_heading level0 col1\" >Test RMSE</th>\n",
       "      <th id=\"T_76578_level0_col2\" class=\"col_heading level0 col2\" >Train $R^2$</th>\n",
       "      <th id=\"T_76578_level0_col3\" class=\"col_heading level0 col3\" >Test $R^2$</th>\n",
       "    </tr>\n",
       "  </thead>\n",
       "  <tbody>\n",
       "    <tr>\n",
       "      <th id=\"T_76578_level0_row0\" class=\"row_heading level0 row0\" >0</th>\n",
       "      <td id=\"T_76578_row0_col0\" class=\"data row0 col0\" >0.068266</td>\n",
       "      <td id=\"T_76578_row0_col1\" class=\"data row0 col1\" >0.068727</td>\n",
       "      <td id=\"T_76578_row0_col2\" class=\"data row0 col2\" >0.739806</td>\n",
       "      <td id=\"T_76578_row0_col3\" class=\"data row0 col3\" >0.670302</td>\n",
       "    </tr>\n",
       "  </tbody>\n",
       "</table>\n"
      ],
      "text/plain": [
       "<pandas.io.formats.style.Styler at 0x1c574755b50>"
      ]
     },
     "execution_count": 110,
     "metadata": {},
     "output_type": "execute_result"
    }
   ],
   "source": [
    "RandomForest"
   ]
  },
  {
   "cell_type": "code",
   "execution_count": 111,
   "id": "8a646455",
   "metadata": {},
   "outputs": [
    {
     "data": {
      "text/html": [
       "<style type=\"text/css\">\n",
       "</style>\n",
       "<table id=\"T_b9349\">\n",
       "  <caption>CVGS Tuned RandomForestRegressor</caption>\n",
       "  <thead>\n",
       "    <tr>\n",
       "      <th class=\"blank level0\" >&nbsp;</th>\n",
       "      <th id=\"T_b9349_level0_col0\" class=\"col_heading level0 col0\" >Train RMSE</th>\n",
       "      <th id=\"T_b9349_level0_col1\" class=\"col_heading level0 col1\" >Test RMSE</th>\n",
       "      <th id=\"T_b9349_level0_col2\" class=\"col_heading level0 col2\" >Train $R^2$</th>\n",
       "      <th id=\"T_b9349_level0_col3\" class=\"col_heading level0 col3\" >Test $R^2$</th>\n",
       "    </tr>\n",
       "  </thead>\n",
       "  <tbody>\n",
       "    <tr>\n",
       "      <th id=\"T_b9349_level0_row0\" class=\"row_heading level0 row0\" >0</th>\n",
       "      <td id=\"T_b9349_row0_col0\" class=\"data row0 col0\" >0.068128</td>\n",
       "      <td id=\"T_b9349_row0_col1\" class=\"data row0 col1\" >0.068643</td>\n",
       "      <td id=\"T_b9349_row0_col2\" class=\"data row0 col2\" >0.740860</td>\n",
       "      <td id=\"T_b9349_row0_col3\" class=\"data row0 col3\" >0.671108</td>\n",
       "    </tr>\n",
       "  </tbody>\n",
       "</table>\n"
      ],
      "text/plain": [
       "<pandas.io.formats.style.Styler at 0x1c576199430>"
      ]
     },
     "execution_count": 111,
     "metadata": {},
     "output_type": "execute_result"
    }
   ],
   "source": [
    "CVGS_RndF"
   ]
  },
  {
   "cell_type": "markdown",
   "id": "cef91090",
   "metadata": {},
   "source": [
    "4."
   ]
  },
  {
   "cell_type": "code",
   "execution_count": 112,
   "id": "d3aed7ee",
   "metadata": {},
   "outputs": [
    {
     "data": {
      "text/html": [
       "<style type=\"text/css\">\n",
       "</style>\n",
       "<table id=\"T_19297\">\n",
       "  <caption>GradientBoostingRegressor</caption>\n",
       "  <thead>\n",
       "    <tr>\n",
       "      <th class=\"blank level0\" >&nbsp;</th>\n",
       "      <th id=\"T_19297_level0_col0\" class=\"col_heading level0 col0\" >Train RMSE</th>\n",
       "      <th id=\"T_19297_level0_col1\" class=\"col_heading level0 col1\" >Test RMSE</th>\n",
       "      <th id=\"T_19297_level0_col2\" class=\"col_heading level0 col2\" >Train $R^2$</th>\n",
       "      <th id=\"T_19297_level0_col3\" class=\"col_heading level0 col3\" >Test $R^2$</th>\n",
       "    </tr>\n",
       "  </thead>\n",
       "  <tbody>\n",
       "    <tr>\n",
       "      <th id=\"T_19297_level0_row0\" class=\"row_heading level0 row0\" >0</th>\n",
       "      <td id=\"T_19297_row0_col0\" class=\"data row0 col0\" >0.071933</td>\n",
       "      <td id=\"T_19297_row0_col1\" class=\"data row0 col1\" >0.065426</td>\n",
       "      <td id=\"T_19297_row0_col2\" class=\"data row0 col2\" >0.711104</td>\n",
       "      <td id=\"T_19297_row0_col3\" class=\"data row0 col3\" >0.701212</td>\n",
       "    </tr>\n",
       "  </tbody>\n",
       "</table>\n"
      ],
      "text/plain": [
       "<pandas.io.formats.style.Styler at 0x1c57619acc0>"
      ]
     },
     "execution_count": 112,
     "metadata": {},
     "output_type": "execute_result"
    }
   ],
   "source": [
    "GradientBoosting"
   ]
  },
  {
   "cell_type": "code",
   "execution_count": 113,
   "id": "1d0f63f8",
   "metadata": {},
   "outputs": [
    {
     "data": {
      "text/html": [
       "<style type=\"text/css\">\n",
       "</style>\n",
       "<table id=\"T_d8748\">\n",
       "  <caption>CVGS Tuned GradientBoostingRegressor</caption>\n",
       "  <thead>\n",
       "    <tr>\n",
       "      <th class=\"blank level0\" >&nbsp;</th>\n",
       "      <th id=\"T_d8748_level0_col0\" class=\"col_heading level0 col0\" >Train RMSE</th>\n",
       "      <th id=\"T_d8748_level0_col1\" class=\"col_heading level0 col1\" >Test RMSE</th>\n",
       "      <th id=\"T_d8748_level0_col2\" class=\"col_heading level0 col2\" >Train $R^2$</th>\n",
       "      <th id=\"T_d8748_level0_col3\" class=\"col_heading level0 col3\" >Test $R^2$</th>\n",
       "    </tr>\n",
       "  </thead>\n",
       "  <tbody>\n",
       "    <tr>\n",
       "      <th id=\"T_d8748_level0_row0\" class=\"row_heading level0 row0\" >0</th>\n",
       "      <td id=\"T_d8748_row0_col0\" class=\"data row0 col0\" >0.069940</td>\n",
       "      <td id=\"T_d8748_row0_col1\" class=\"data row0 col1\" >0.065331</td>\n",
       "      <td id=\"T_d8748_row0_col2\" class=\"data row0 col2\" >0.726888</td>\n",
       "      <td id=\"T_d8748_row0_col3\" class=\"data row0 col3\" >0.702079</td>\n",
       "    </tr>\n",
       "  </tbody>\n",
       "</table>\n"
      ],
      "text/plain": [
       "<pandas.io.formats.style.Styler at 0x1c5761c7c80>"
      ]
     },
     "execution_count": 113,
     "metadata": {},
     "output_type": "execute_result"
    }
   ],
   "source": [
    "CVGS_gBR"
   ]
  },
  {
   "cell_type": "markdown",
   "id": "c1188551",
   "metadata": {},
   "source": [
    "5."
   ]
  },
  {
   "cell_type": "code",
   "execution_count": 114,
   "id": "d55accc4",
   "metadata": {},
   "outputs": [
    {
     "data": {
      "text/html": [
       "<style type=\"text/css\">\n",
       "</style>\n",
       "<table id=\"T_e5068\">\n",
       "  <caption>XGBRegressor</caption>\n",
       "  <thead>\n",
       "    <tr>\n",
       "      <th class=\"blank level0\" >&nbsp;</th>\n",
       "      <th id=\"T_e5068_level0_col0\" class=\"col_heading level0 col0\" >Train RMSE</th>\n",
       "      <th id=\"T_e5068_level0_col1\" class=\"col_heading level0 col1\" >Test RMSE</th>\n",
       "      <th id=\"T_e5068_level0_col2\" class=\"col_heading level0 col2\" >Train $R^2$</th>\n",
       "      <th id=\"T_e5068_level0_col3\" class=\"col_heading level0 col3\" >Test $R^2$</th>\n",
       "    </tr>\n",
       "  </thead>\n",
       "  <tbody>\n",
       "    <tr>\n",
       "      <th id=\"T_e5068_level0_row0\" class=\"row_heading level0 row0\" >0</th>\n",
       "      <td id=\"T_e5068_row0_col0\" class=\"data row0 col0\" >0.067787</td>\n",
       "      <td id=\"T_e5068_row0_col1\" class=\"data row0 col1\" >0.068296</td>\n",
       "      <td id=\"T_e5068_row0_col2\" class=\"data row0 col2\" >0.743445</td>\n",
       "      <td id=\"T_e5068_row0_col3\" class=\"data row0 col3\" >0.674426</td>\n",
       "    </tr>\n",
       "  </tbody>\n",
       "</table>\n"
      ],
      "text/plain": [
       "<pandas.io.formats.style.Styler at 0x1c57475c9b0>"
      ]
     },
     "execution_count": 114,
     "metadata": {},
     "output_type": "execute_result"
    }
   ],
   "source": [
    "XGB"
   ]
  },
  {
   "cell_type": "code",
   "execution_count": 130,
   "id": "e1635d8f",
   "metadata": {},
   "outputs": [
    {
     "data": {
      "text/html": [
       "<style type=\"text/css\">\n",
       "</style>\n",
       "<table id=\"T_a4bd8\">\n",
       "  <caption>CVGS Tuned XGBRegressor</caption>\n",
       "  <thead>\n",
       "    <tr>\n",
       "      <th class=\"blank level0\" >&nbsp;</th>\n",
       "      <th id=\"T_a4bd8_level0_col0\" class=\"col_heading level0 col0\" >Train RMSE</th>\n",
       "      <th id=\"T_a4bd8_level0_col1\" class=\"col_heading level0 col1\" >Test RMSE</th>\n",
       "      <th id=\"T_a4bd8_level0_col2\" class=\"col_heading level0 col2\" >Train $R^2$</th>\n",
       "      <th id=\"T_a4bd8_level0_col3\" class=\"col_heading level0 col3\" >Test $R^2$</th>\n",
       "    </tr>\n",
       "  </thead>\n",
       "  <tbody>\n",
       "    <tr>\n",
       "      <th id=\"T_a4bd8_level0_row0\" class=\"row_heading level0 row0\" >0</th>\n",
       "      <td id=\"T_a4bd8_row0_col0\" class=\"data row0 col0\" >0.070332</td>\n",
       "      <td id=\"T_a4bd8_row0_col1\" class=\"data row0 col1\" >0.065208</td>\n",
       "      <td id=\"T_a4bd8_row0_col2\" class=\"data row0 col2\" >0.723822</td>\n",
       "      <td id=\"T_a4bd8_row0_col3\" class=\"data row0 col3\" >0.703206</td>\n",
       "    </tr>\n",
       "  </tbody>\n",
       "</table>\n"
      ],
      "text/plain": [
       "<pandas.io.formats.style.Styler at 0x1c5761c6270>"
      ]
     },
     "execution_count": 130,
     "metadata": {},
     "output_type": "execute_result"
    }
   ],
   "source": [
    "CVGS_xgBR"
   ]
  }
 ],
 "metadata": {
  "kernelspec": {
   "display_name": "Python 3 (ipykernel)",
   "language": "python",
   "name": "python3"
  },
  "language_info": {
   "codemirror_mode": {
    "name": "ipython",
    "version": 3
   },
   "file_extension": ".py",
   "mimetype": "text/x-python",
   "name": "python",
   "nbconvert_exporter": "python",
   "pygments_lexer": "ipython3",
   "version": "3.12.3"
  }
 },
 "nbformat": 4,
 "nbformat_minor": 5
}
